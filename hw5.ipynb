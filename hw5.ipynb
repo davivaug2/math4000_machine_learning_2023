{
 "cells": [
  {
   "cell_type": "markdown",
   "metadata": {},
   "source": [
    "### Problem 1\n"
   ]
  },
  {
   "cell_type": "markdown",
   "metadata": {},
   "source": [
    "Consider the matrix $A$:\n",
    "$$\n",
    "A =\n",
    "\\begin{pmatrix}\n",
    "0 & 1 & 2 & 3 & 4 \\\\\n",
    "1 & 2 & 3 & 4 & 0 \\\\\n",
    "2 & 3 & 4 & 0 & 1 \\\\\n",
    "3 & 4 & 0 & 1 & 2 \\\\\n",
    "4 & 0 & 1 & 2 & 3\n",
    "\\end{pmatrix}\n",
    "$$\n",
    "and the convolutional layer Conv2d with the property (in_channels=1, out_channels=1, kernel_size=2, stride=1, padding=1) and the kernel $K$\n",
    "$$\n",
    "K =\n",
    "\\begin{pmatrix}\n",
    "0 & 1 \\\\\n",
    "1 & 2 \n",
    "\\end{pmatrix}\n",
    "$$\n",
    "\n",
    "Compute the output Conv2d(A) using Python code."
   ]
  },
  {
   "cell_type": "markdown",
   "metadata": {},
   "source": [
    "### Problem 2\n",
    "For the same matrix $A$ in Problem 1, consider the Max Pooling layer MaxPool2d with the property (kernel_size=2, stride=1, padding=1). Compute the output MaxPool2d(A) using Python code."
   ]
  },
  {
   "cell_type": "markdown",
   "metadata": {},
   "source": [
    "### Problem 3\n",
    "#### (this problem is optional and will not be counted in grade)\n",
    "For two probability distributions $p=(p_1,p_2,\\cdots,p_n)$ and $q=(q_1,q_2,\\cdots,q_n)$, the cross entropy is defined as: $$l(p,q) = - \\sum_{i=1}^n q_i \\log p_i$$\n",
    "Prove that\n",
    "$$ l(p,q) \\ge l(q,q)$$"
   ]
  },
  {
   "cell_type": "code",
   "execution_count": null,
   "metadata": {},
   "outputs": [],
   "source": []
  }
 ],
 "metadata": {
  "kernelspec": {
   "display_name": "Python 3 (ipykernel)",
   "language": "python",
   "name": "python3"
  },
  "language_info": {
   "codemirror_mode": {
    "name": "ipython",
    "version": 3
   },
   "file_extension": ".py",
   "mimetype": "text/x-python",
   "name": "python",
   "nbconvert_exporter": "python",
   "pygments_lexer": "ipython3",
   "version": "3.9.13"
  },
  "vscode": {
   "interpreter": {
    "hash": "64165d061f1520ab7d121a7a19199cbac06e5deac1296a5016743a69ede8fd69"
   }
  }
 },
 "nbformat": 4,
 "nbformat_minor": 2
}
