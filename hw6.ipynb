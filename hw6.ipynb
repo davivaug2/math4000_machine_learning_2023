{
 "cells": [
  {
   "cell_type": "markdown",
   "id": "607db871",
   "metadata": {},
   "source": [
    "### Problem 1\n",
    "\n",
    "LeNet is an early convolutional neural network structure proposed by LeCun et al. in 1998. Read more details in LeNet in https://en.wikipedia.org/wiki/LeNet and implement LeNet (see the picture below, the LeNet structure on the left) by modifying the code in the lecture note \"lecture-05-code-part1\". Report the accuracy of the LeNet.\n",
    "\n",
    "Some useful hints:\n",
    "1. You need to modify the class CNNModel(nn.Module) in Step 3).\n",
    "2. \"Dense: 120 fully connected neurons\" in the picture refers to the linear layer in feedforward neural network. The output dimension is 120 and the input dimension is determined by the previous layer.\n",
    "\n",
    "![convert notebook to web app](https://upload.wikimedia.org/wikipedia/commons/thumb/c/cc/Comparison_image_neural_networks.svg/480px-Comparison_image_neural_networks.svg.png)"
   ]
  },
  {
   "cell_type": "code",
   "execution_count": null,
   "id": "d7928455",
   "metadata": {},
   "outputs": [],
   "source": []
  }
 ],
 "metadata": {
  "kernelspec": {
   "display_name": "Python 3 (ipykernel)",
   "language": "python",
   "name": "python3"
  },
  "language_info": {
   "codemirror_mode": {
    "name": "ipython",
    "version": 3
   },
   "file_extension": ".py",
   "mimetype": "text/x-python",
   "name": "python",
   "nbconvert_exporter": "python",
   "pygments_lexer": "ipython3",
   "version": "3.9.13"
  }
 },
 "nbformat": 4,
 "nbformat_minor": 5
}
