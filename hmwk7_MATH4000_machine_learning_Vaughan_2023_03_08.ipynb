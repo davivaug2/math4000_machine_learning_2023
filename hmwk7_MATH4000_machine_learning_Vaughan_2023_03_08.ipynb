{
  "nbformat": 4,
  "nbformat_minor": 0,
  "metadata": {
    "colab": {
      "provenance": []
    },
    "kernelspec": {
      "name": "python3",
      "display_name": "Python 3"
    },
    "language_info": {
      "name": "python"
    }
  },
  "cells": [
    {
      "cell_type": "markdown",
      "source": [
        "#  David Vaughan  R1166390\n",
        "# (MATH-4000-004)\n",
        "# Homework 7 03/08/2023\n",
        "#  Spring 2023 TTU Selected Topics: Machine learning model order reduction for differential equations (MATH-4000-004) Full Term: Homework for week  (due 03/08)"
      ],
      "metadata": {
        "id": "RiVYFQFQTm2z"
      }
    },
    {
      "cell_type": "markdown",
      "source": [
        "### Problem 1\n",
        "\n",
        "Read the code in the lecture note \"lecture-06-part2-ResNet\". Change the number of layers to 10, 30, 50, 70 for both the ResNet and Feedforward Neural Network (FNN). Compare the performance of ResNet and FNN, and report your observation. (You should be able to see that ResNet outperforms FNN when the number of layers is very large.)\n"
      ],
      "metadata": {
        "id": "lFle_LcaKvis"
      }
    },
    {
      "cell_type": "markdown",
      "source": [
        "## Residual Neural Network (ResNet)\n",
        "- ResNet is proposed in this paper:\n",
        "He, Zhang, Ren, and Sun (2016). Deep Residual Learning for Image Recognition. 2016. CVPR (cited >150k).\n",
        "\n",
        "- Motivation: vanishing gradient problem when the number of layers is too large"
      ],
      "metadata": {
        "id": "zRt-HMfFLqky"
      }
    },
    {
      "cell_type": "markdown",
      "source": [
        "### architecture:\n",
        "- Original Feedforward Neural Network:\n",
        "$$\n",
        "\\begin{aligned}\n",
        "z^{(1)} &= x, \\\\\n",
        "z^{(i+1)} &= \\sigma(W^{(i)} z^{(i)} + b^{(i)}), \\quad i=1,2,\\cdots,L, \\\\\n",
        "y &= W^{(L+1)} z^{(L+1)} + b^{(L+1)}\n",
        "\\end{aligned}\n",
        "$$\n",
        "\n",
        "- ResNet:\n",
        "$$\n",
        "\\begin{aligned}\n",
        "z^{(1)} &= x, \\\\\n",
        "z^{(i+1)} &= z^{(i)} + \\sigma(W^{(i)} z^{(i)} + b^{(i)}), \\quad i=1,2,\\cdots,L, \\\\\n",
        "y &= W^{(L+1)} z^{(L+1)} + b^{(L+1)}\n",
        "\\end{aligned}\n",
        "$$"
      ],
      "metadata": {
        "id": "UR6_vqE5Lzsi"
      }
    },
    {
      "cell_type": "code",
      "source": [
        "# install pytorch\n",
        "\n",
        "import matplotlib.pyplot as plt\n",
        "import numpy as np\n",
        "import torch\n",
        "import time\n",
        "\n",
        "N = 1000\n",
        "x_data = torch.linspace(-1, 1, N)\n",
        "x_data = torch.reshape(x_data, (N, 1))\n",
        "y_data = torch.sin(2*x_data)\n",
        "\n",
        "plt.figure()\n",
        "plt.plot(x_data, y_data, '-', label='data')\n",
        "plt.legend()\n",
        "plt.show()\n",
        "\n"
      ],
      "metadata": {
        "colab": {
          "base_uri": "https://localhost:8080/",
          "height": 265
        },
        "id": "jl2R8wJBKwwU",
        "outputId": "5adab0a4-2b17-4ba2-b121-9eb9e3f7e346"
      },
      "execution_count": 1,
      "outputs": [
        {
          "output_type": "display_data",
          "data": {
            "text/plain": [
              "<Figure size 432x288 with 1 Axes>"
            ],
            "image/png": "[encoded data removed]"
          },
          "metadata": {
            "needs_background": "light"
          }
        }
      ]
    },
    {
      "cell_type": "code",
      "source": [
        "import matplotlib.pyplot as plt\n",
        "import numpy as np\n",
        "import torch\n",
        "import time\n",
        "\n",
        "# feedforward neural network with arbitrary number of layers\n",
        "class FNN(torch.nn.Module):\n",
        "    \n",
        "    def __init__(self, input_size, output_size, num_layers, hidden_size, activiation):\n",
        "        super(FNN, self).__init__()\n",
        "        \n",
        "        # dimension of the input data: x\n",
        "        self.input_size = input_size\n",
        "        \n",
        "        # dimension of the output data: y\n",
        "        self.output_size = output_size\n",
        "        \n",
        "        # number of layers\n",
        "        self.num_layers = num_layers\n",
        "        \n",
        "        # number of neurons in the hidden layers\n",
        "        self.hidden_size = hidden_size\n",
        "        \n",
        "        # activation functions\n",
        "        self.activiation = activiation\n",
        "        \n",
        "        # first hidden layer\n",
        "        self.layers = torch.nn.ModuleList([torch.nn.Linear(input_size, hidden_size)])\n",
        "        # hidden layers inside the neural network\n",
        "        self.layers.extend([torch.nn.Linear(hidden_size, hidden_size) for i in range(1, self.num_layers-1)])\n",
        "        # output layer\n",
        "        self.layers.append(torch.nn.Linear(hidden_size, output_size))\n",
        "        \n",
        "        # activation function list: relu, tanh\n",
        "        self.act_list = {'relu': torch.nn.ReLU(), 'tanh': torch.nn.Tanh()}\n",
        "        self.act_func = self.act_list[self.activiation]\n",
        "    \n",
        "    def forward(self, x):\n",
        "        \n",
        "        # input layer\n",
        "        z = x\n",
        "        \n",
        "        for i in range(self.num_layers):\n",
        "            \n",
        "            if i < (self.num_layers-1):\n",
        "\n",
        "                z = z + self.act_func(self.layers[i](z))\n",
        "            \n",
        "            else:\n",
        "                # output layer\n",
        "                # linear layer: z = W_i * z + b_i\n",
        "                z = self.layers[i](z)\n",
        "                \n",
        "        return z"
      ],
      "metadata": {
        "id": "yjCb1yMSLZPx"
      },
      "execution_count": 2,
      "outputs": []
    },
    {
      "cell_type": "code",
      "source": [
        "import matplotlib.pyplot as plt\n",
        "import numpy as np\n",
        "import torch\n",
        "import time\n",
        "\n",
        "# feedforward neural network with arbitrary number of layers\n",
        "class FNN_Orginal(torch.nn.Module):\n",
        "    \n",
        "    def __init__(self, input_size, output_size, num_layers, hidden_size, activiation):\n",
        "        super(FNN, self).__init__()\n",
        "        \n",
        "        # dimension of the input data: x\n",
        "        self.input_size = input_size\n",
        "        \n",
        "        # dimension of the output data: y\n",
        "        self.output_size = output_size\n",
        "        \n",
        "        # number of layers\n",
        "        self.num_layers = num_layers\n",
        "        \n",
        "        # number of neurons in the hidden layers\n",
        "        self.hidden_size = hidden_size\n",
        "        \n",
        "        # activation functions\n",
        "        self.activiation = activiation\n",
        "        \n",
        "        # first hidden layer\n",
        "        self.layers = torch.nn.ModuleList([torch.nn.Linear(input_size, hidden_size)])\n",
        "        # hidden layers inside the neural network\n",
        "        self.layers.extend([torch.nn.Linear(hidden_size, hidden_size) for i in range(1, self.num_layers-1)])\n",
        "        # output layer\n",
        "        self.layers.append(torch.nn.Linear(hidden_size, output_size))\n",
        "        \n",
        "        # activation function list: relu, tanh\n",
        "        self.act_list = {'relu': torch.nn.ReLU(), 'tanh': torch.nn.Tanh()}\n",
        "        self.act_func = self.act_list[self.activiation]\n",
        "    \n",
        "    def forward(self, x):\n",
        "        \n",
        "        # input layer\n",
        "        z = x\n",
        "        \n",
        "        for i in range(self.num_layers):\n",
        "            \n",
        "            if i < (self.num_layers-1):\n",
        "                # hidden layer\n",
        "                # linear layer: z = W_i * z + b_i\n",
        "                z = self.layers[i](z)\n",
        "                # nonlinear layer: z = sigma(z)\n",
        "                z = self.act_func(z)\n",
        "            \n",
        "            else:\n",
        "                # output layer\n",
        "                # linear layer: z = W_i * z + b_i\n",
        "                z = self.layers[i](z)\n",
        "                \n",
        "        return z"
      ],
      "metadata": {
        "id": "6CAQD-qHPpRe"
      },
      "execution_count": 6,
      "outputs": []
    },
    {
      "cell_type": "code",
      "source": [],
      "metadata": {
        "colab": {
          "base_uri": "https://localhost:8080/",
          "height": 439
        },
        "id": "GMalvY2yLfkB",
        "outputId": "42df3768-16ae-49bf-a785-0412ea1c4a62"
      },
      "execution_count": 3,
      "outputs": [
        {
          "output_type": "stream",
          "name": "stdout",
          "text": [
            "epoch: 0; MSE: 2.05e+17; elapsed time: 0.31 sec\n",
            "epoch: 1000; MSE: 8.40e+01; elapsed time: 53.82 sec\n",
            "epoch: 2000; MSE: 8.40e+01; elapsed time: 102.01 sec\n",
            "epoch: 3000; MSE: 8.40e+01; elapsed time: 148.72 sec\n",
            "epoch: 4000; MSE: 8.38e+01; elapsed time: 196.65 sec\n",
            "epoch: 5000; MSE: 8.40e+01; elapsed time: 242.85 sec\n",
            "epoch: 6000; MSE: 8.39e+01; elapsed time: 304.06 sec\n",
            "epoch: 7000; MSE: 8.40e+01; elapsed time: 352.15 sec\n",
            "epoch: 8000; MSE: 8.38e+01; elapsed time: 399.94 sec\n",
            "epoch: 9000; MSE: 8.38e+01; elapsed time: 446.39 sec\n"
          ]
        },
        {
          "output_type": "display_data",
          "data": {
            "text/plain": [
              "<Figure size 432x288 with 1 Axes>"
            ],
            "image/png": "[encoded data removed]"
          },
          "metadata": {
            "needs_background": "light"
          }
        }
      ]
    },
    {
      "cell_type": "markdown",
      "source": [],
      "metadata": {
        "id": "pAkJ4JfcTjts"
      }
    },
    {
      "cell_type": "code",
      "source": [
        "# Orginal FNN\n",
        "layers = 10\n",
        "for i in range(4):\n",
        "\n",
        "  fcn = FNN_Orginal(input_size=1, output_size=1, num_layers=layers, hidden_size=32, activiation='relu')\n",
        "\n",
        "  criterion = torch.nn.MSELoss()\n",
        "\n",
        "  optimizer = torch.optim.Adam(fcn.parameters(), lr=0.001)\n",
        "\n",
        "  total_epoch = 10000\n",
        "\n",
        "  # record time\n",
        "  time_start = time.time()\n",
        "  for epoch in range(total_epoch):\n",
        "\n",
        "      optimizer.zero_grad()\n",
        "\n",
        "      loss = criterion(fcn(x_data), y_data)\n",
        "\n",
        "      loss.backward()\n",
        "      \n",
        "      optimizer.step()\n",
        "\n",
        "      if epoch%1000 == 0:\n",
        "          time_end = time.time()\n",
        "          print(\"epoch: %d; MSE: %.2e; elapsed time: %.2f sec\"%(epoch, loss.item(), time_end-time_start))\n",
        "\n",
        "  # plot\n",
        "  plt.figure()\n",
        "  plt.plot(x_data, y_data, 'o', label='data')\n",
        "  plt.plot(x_data, fcn(x_data).detach(), '-', label='neural network fitting')\n",
        "  plt.legend()\n",
        "  plt.show()\n",
        "  layers += 20"
      ],
      "metadata": {
        "colab": {
          "base_uri": "https://localhost:8080/"
        },
        "id": "vbYGUn9aL9Vc",
        "outputId": "fd27b776-753d-45dd-9115-02496e941a25"
      },
      "execution_count": 5,
      "outputs": [
        {
          "output_type": "stream",
          "name": "stdout",
          "text": [
            "0\n",
            "1\n",
            "2\n",
            "3\n"
          ]
        }
      ]
    },
    {
      "cell_type": "code",
      "source": [
        "#### Res Net\n",
        "layers = 10\n",
        "for i in range(4):\n",
        "\n",
        "  fcn = FNN(input_size=1, output_size=1, num_layers=layers, hidden_size=32, activiation='relu')\n",
        "\n",
        "  criterion = torch.nn.MSELoss()\n",
        "\n",
        "  optimizer = torch.optim.Adam(fcn.parameters(), lr=0.001)\n",
        "\n",
        "  total_epoch = 10000\n",
        "\n",
        "  # record time\n",
        "  time_start = time.time()\n",
        "  for epoch in range(total_epoch):\n",
        "\n",
        "      optimizer.zero_grad()\n",
        "\n",
        "      loss = criterion(fcn(x_data), y_data)\n",
        "\n",
        "      loss.backward()\n",
        "      \n",
        "      optimizer.step()\n",
        "\n",
        "      if epoch%1000 == 0:\n",
        "          time_end = time.time()\n",
        "          print(\"epoch: %d; MSE: %.2e; elapsed time: %.2f sec\"%(epoch, loss.item(), time_end-time_start))\n",
        "\n",
        "  # plot\n",
        "  plt.figure()\n",
        "  plt.plot(x_data, y_data, 'o', label='data')\n",
        "  plt.plot(x_data, fcn(x_data).detach(), '-', label='neural network fitting')\n",
        "  plt.legend()\n",
        "  plt.show()\n",
        "  layers += 20"
      ],
      "metadata": {
        "id": "m1jsvdAEQYjb"
      },
      "execution_count": null,
      "outputs": []
    }
  ]
}