{
 "cells": [
  {
   "cell_type": "markdown",
   "id": "4fc19c9c",
   "metadata": {},
   "source": [
    "### Before you work on this homework, please self-study the following list:\n",
    "1. Anaconda: a platform of Python packages for scientific computing (data science, machine learning applications, large-scale data processing, predictive analytics, etc.)\n",
    "    - download and install Anaconda from https://www.anaconda.com/\n",
    "    - install Python and Jupyter notebook in Anaconda\n",
    "2. Python:\n",
    "    - read and go through all the examples in this website: https://learnxinyminutes.com/docs/python/\n",
    "    - learn how to run Python code in your computer\n",
    "2. Jupyter:\n",
    "    - learn how to run Jupyter Notebook\n",
    "3. Markdown: a plain text markup language\n",
    "    - read and go through all the examples in this website: https://learnxinyminutes.com/docs/markdown/"
   ]
  },
  {
   "cell_type": "markdown",
   "id": "2f18667d",
   "metadata": {},
   "source": [
    "### Please first read the examples and then work on the following homework (Problem 1-5). Submit your solution code in the format of Jupyter Notebook as in the examples."
   ]
  },
  {
   "cell_type": "markdown",
   "id": "6f328196",
   "metadata": {},
   "source": [
    "### Example 1:\n",
    "Compute and print the summation of all the integers from 1 to 100:\n",
    "$$\\sum_{k=1}^{100} k$$\n",
    "#### Solution:"
   ]
  },
  {
   "cell_type": "code",
   "execution_count": 2,
   "id": "144d747b",
   "metadata": {},
   "outputs": [
    {
     "name": "stdout",
     "output_type": "stream",
     "text": [
      "1\n",
      "2\n",
      "3\n",
      "4\n",
      "5\n",
      "6\n",
      "7\n",
      "8\n",
      "9\n",
      "10\n",
      "11\n",
      "12\n",
      "13\n",
      "14\n",
      "15\n",
      "16\n",
      "17\n",
      "18\n",
      "19\n",
      "20\n",
      "21\n",
      "22\n",
      "23\n",
      "24\n",
      "25\n",
      "26\n",
      "27\n",
      "28\n",
      "29\n",
      "30\n",
      "31\n",
      "32\n",
      "33\n",
      "34\n",
      "35\n",
      "36\n",
      "37\n",
      "38\n",
      "39\n",
      "40\n",
      "41\n",
      "42\n",
      "43\n",
      "44\n",
      "45\n",
      "46\n",
      "47\n",
      "48\n",
      "49\n",
      "50\n",
      "51\n",
      "52\n",
      "53\n",
      "54\n",
      "55\n",
      "56\n",
      "57\n",
      "58\n",
      "59\n",
      "60\n",
      "61\n",
      "62\n",
      "63\n",
      "64\n",
      "65\n",
      "66\n",
      "67\n",
      "68\n",
      "69\n",
      "70\n",
      "71\n",
      "72\n",
      "73\n",
      "74\n",
      "75\n",
      "76\n",
      "77\n",
      "78\n",
      "79\n",
      "80\n",
      "81\n",
      "82\n",
      "83\n",
      "84\n",
      "85\n",
      "86\n",
      "87\n",
      "88\n",
      "89\n",
      "90\n",
      "91\n",
      "92\n",
      "93\n",
      "94\n",
      "95\n",
      "96\n",
      "97\n",
      "98\n",
      "99\n",
      "100\n",
      "5050\n"
     ]
    }
   ],
   "source": [
    "sum = 0\n",
    "for x in range(1, 101):\n",
    "    print(x)\n",
    "    sum += x\n",
    "print(sum)"
   ]
  },
  {
   "cell_type": "markdown",
   "id": "fb13178d",
   "metadata": {},
   "source": [
    "### Example 2:\n",
    "Use for loop to print the following pattern:\n",
    "\n",
    "= \\\n",
    "== \\\n",
    "=== \\\n",
    "==== \\\n",
    "=====\n",
    "#### Solution:"
   ]
  },
  {
   "cell_type": "code",
   "execution_count": 1,
   "id": "a829f398",
   "metadata": {},
   "outputs": [
    {
     "name": "stdout",
     "output_type": "stream",
     "text": [
      "=l\n",
      "==l\n",
      "===l\n",
      "====l\n",
      "=====l\n"
     ]
    }
   ],
   "source": [
    "row = 5\n",
    "for i in range(row):\n",
    "    for _ in range(i + 1):\n",
    "        print('=', end='')\n",
    "    print(\"l\")"
   ]
  },
  {
   "cell_type": "markdown",
   "id": "e2f2f3c8",
   "metadata": {},
   "source": [
    "### Problem 1\n",
    "Find out all the integers between 1 and 10000, which satisfies that this integer plus 268 is a square number."
   ]
  },
  {
   "cell_type": "markdown",
   "id": "f79337cb",
   "metadata": {},
   "source": [
    "### Problem 2\n",
    "The factorial of any positive integer $k$ is defined as:\n",
    "$$k! = k \\times (k-1) \\times \\cdots \\times 2 \\times 1$$\n",
    "Compute the following expression:\n",
    "$$\\sum_{k=1}^9 k!$$"
   ]
  },
  {
   "cell_type": "markdown",
   "id": "588cc34d",
   "metadata": {},
   "source": [
    "### Problem 3\n",
    "Give a string consists of several letters. If the letter is in the even-position, convert it to lower case; if the letter is in the odd-position, convert it to upper case.\n",
    "For example, if the given string is \"Morning\", the the result should be \"MoRnInG\".\n",
    "\n",
    "Convert the string \"Welcome\" and print the result."
   ]
  },
  {
   "cell_type": "markdown",
   "id": "9a57c2f5",
   "metadata": {},
   "source": [
    "### Problem 4\n",
    "Use for loop to print the following pattern:\n",
    "\n",
    "^^^^= \\\n",
    "^^^== \\\n",
    "^^=== \\\n",
    "^==== \\\n",
    "====="
   ]
  },
  {
   "cell_type": "markdown",
   "id": "3429b46f",
   "metadata": {},
   "source": [
    "### Problem 5\n",
    "In number theory, the Padovan sequence is the sequence of integers $P(n)$ defined by the initial values\n",
    "$$P(0) = P(1) = P(2) = 1$$\n",
    "and the recurrence relation\n",
    "$$P(n) = P(n-2) + P(n-3)$$\n",
    "For example, the first few values of $P(n)$ are\n",
    "1, 1, 1, 2, 2, 3, 4, 5, 7, 9\n",
    "\n",
    "Compute and print $P(20)$."
   ]
  },
  {
   "cell_type": "code",
   "execution_count": null,
   "id": "8feca315",
   "metadata": {},
   "outputs": [],
   "source": []
  }
 ],
 "metadata": {
  "kernelspec": {
   "display_name": "Python 3 (ipykernel)",
   "language": "python",
   "name": "python3"
  },
  "language_info": {
   "codemirror_mode": {
    "name": "ipython",
    "version": 3
   },
   "file_extension": ".py",
   "mimetype": "text/x-python",
   "name": "python",
   "nbconvert_exporter": "python",
   "pygments_lexer": "ipython3",
   "version": "3.9.13"
  }
 },
 "nbformat": 4,
 "nbformat_minor": 5
}
