{
 "cells": [
  {
   "cell_type": "markdown",
   "id": "3a3cf5b2",
   "metadata": {},
   "source": [
    "## Solve the following problems by hand (no coding). Submit your homework in PDF file.\n",
    "\n",
    "### Problem 1\n",
    "\n",
    "Follow the example in lecture note to solve the following minimization problem.\n",
    "\n",
    "Find out $\\theta$ such that\n",
    "$$\n",
    "L(z(1)) = (z(1) - 2)^2\n",
    "$$\n",
    "reaches the minimum value where $z(t)$\n",
    "subject to\n",
    "$$\n",
    "\\frac{dz}{dt} = z(t) + \\theta, \\quad z(0) = 1, \\quad 0< t < 1\n",
    "$$\n",
    "\n",
    "1. Solve the ODE for $z(t)$.\n",
    "\n",
    "2. Substitute the solution $z(1)$ into the loss function and find the minimum value."
   ]
  },
  {
   "cell_type": "markdown",
   "id": "b9c52be5",
   "metadata": {},
   "source": [
    "### Problem 2\n",
    "\n",
    "For the above problem, we can also solve it by the adjoint method:\n",
    "\n",
    "1. Write down the ODE for the adjoint state $\\lambda(t)$:\n",
    "$$\n",
    "\\frac{d \\lambda}{dt} = -\\lambda(t) \\frac{\\partial f(z(t), t, \\theta)}{\\partial z}\n",
    "$$\n",
    "and\n",
    "$$\n",
    "\\lambda(t_1) = \\frac{\\partial L(z(t_1))}{\\partial z(t_1)}\n",
    "$$\n",
    "\n",
    "2. Solve the ODE for $\\lambda(t)$.\n",
    "\n",
    "3. Compute the gradient:\n",
    "$$\n",
    "\\frac{\\partial L(z(t_1))}{\\partial \\theta} = - \\int_{t_1}^{t_0}  \\lambda(t) \\frac{\\partial f(z(t), t, \\theta)}{\\partial \\theta}   dt\n",
    "$$\n",
    "\n",
    "4. Set the gradient equal to zero and solve out $\\theta$ (Your solution should be the same as the direct approach in Problem 1)."
   ]
  }
 ],
 "metadata": {
  "kernelspec": {
   "display_name": "Python 3 (ipykernel)",
   "language": "python",
   "name": "python3"
  },
  "language_info": {
   "codemirror_mode": {
    "name": "ipython",
    "version": 3
   },
   "file_extension": ".py",
   "mimetype": "text/x-python",
   "name": "python",
   "nbconvert_exporter": "python",
   "pygments_lexer": "ipython3",
   "version": "3.10.4"
  }
 },
 "nbformat": 4,
 "nbformat_minor": 5
}
