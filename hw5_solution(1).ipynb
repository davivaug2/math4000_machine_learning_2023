{
 "cells": [
  {
   "cell_type": "markdown",
   "id": "ed3c3f41",
   "metadata": {},
   "source": [
    "### Problem 1"
   ]
  },
  {
   "cell_type": "code",
   "execution_count": 5,
   "id": "645cba72",
   "metadata": {},
   "outputs": [
    {
     "name": "stdout",
     "output_type": "stream",
     "text": [
      "weight : \n",
      " tensor([[[[0., 1.],\n",
      "          [1., 2.]]]])\n",
      "output image: \n",
      " tensor([[[ 0.,  2.,  5.,  8., 11.,  4.],\n",
      "         [ 2.,  6., 10., 14.,  8.,  0.],\n",
      "         [ 5., 10., 14.,  8.,  2.,  1.],\n",
      "         [ 8., 14.,  8.,  2.,  6.,  2.],\n",
      "         [11.,  8.,  2.,  6., 10.,  3.],\n",
      "         [ 4.,  0.,  1.,  2.,  3.,  0.]]], grad_fn=<SqueezeBackward1>)\n"
     ]
    }
   ],
   "source": [
    "import torch\n",
    "import torch.nn as nn\n",
    "import numpy\n",
    "\n",
    "A = torch.tensor([[[0,1,2,3,4],[1,2,3,4,0],[2,3,4,0,1],[3,4,0,1,2],[4,0,1,2,3]]]).float()\n",
    "\n",
    "cnn = nn.Conv2d(in_channels=1, out_channels=1, kernel_size=2, stride=1, padding=1, bias=False)\n",
    "\n",
    "w = cnn.weight\n",
    "\n",
    "w_np = w.detach().numpy()\n",
    "w_np[0,0,0] = [0,1]\n",
    "w_np[0,0,1] = [1,2]\n",
    "\n",
    "cnn.weight = torch.nn.Parameter(torch.from_numpy(w_np))\n",
    "\n",
    "for name, param in cnn.named_parameters():\n",
    "    if param.requires_grad:\n",
    "        print(name, ': \\n', param.data)\n",
    "\n",
    "out = cnn(A)\n",
    "print('output image: \\n', out)"
   ]
  },
  {
   "cell_type": "markdown",
   "id": "7777efbc",
   "metadata": {},
   "source": [
    "### Problem 2"
   ]
  },
  {
   "cell_type": "code",
   "execution_count": 6,
   "id": "4120c43b",
   "metadata": {},
   "outputs": [
    {
     "name": "stdout",
     "output_type": "stream",
     "text": [
      "output image: \n",
      " tensor([[[0., 1., 2., 3., 4., 4.],\n",
      "         [1., 2., 3., 4., 4., 4.],\n",
      "         [2., 3., 4., 4., 4., 1.],\n",
      "         [3., 4., 4., 4., 2., 2.],\n",
      "         [4., 4., 4., 2., 3., 3.],\n",
      "         [4., 4., 1., 2., 3., 3.]]])\n"
     ]
    }
   ],
   "source": [
    "maxpool = nn.MaxPool2d(2, stride = 1, padding = 1)\n",
    "out_mp = maxpool(A)\n",
    "print('output image: \\n', out_mp)"
   ]
  },
  {
   "cell_type": "markdown",
   "id": "646f652c",
   "metadata": {},
   "source": [
    "### Problem 3"
   ]
  },
  {
   "cell_type": "markdown",
   "id": "459045f8",
   "metadata": {},
   "source": [
    "$$\n",
    "\\begin{aligned}\n",
    "l(p,q) &= - \\sum_{i=1}^n q_i \\log p_i \\\\\n",
    "&= - \\sum_{i=1}^n q_i \\log \\left( \\frac{p_i}{q_i} \\right) - \\sum_{i=1}^n q_i \\log q_i \\\\\n",
    "&\\ge - \\sum_{i=1}^n q_i \\left( \\frac{p_i}{q_i}-1 \\right) - \\sum_{i=1}^n q_i \\log q_i \\quad (\\textrm{here we use:} \\log x\\le x - 1)\\\\\n",
    "&= - \\sum_{i=1}^n p_i + \\sum_{i=1}^n q_i - \\sum_{i=1}^n q_i \\log q_i \\\\\n",
    "&= - 1 + 1 - \\sum_{i=1}^n q_i \\log q_i \\\\\n",
    "&= - \\sum_{i=1}^n q_i \\log q_i \\\\\n",
    "&= l(q,q)\n",
    "\\end{aligned}\n",
    "$$"
   ]
  }
 ],
 "metadata": {
  "kernelspec": {
   "display_name": "Python 3 (ipykernel)",
   "language": "python",
   "name": "python3"
  },
  "language_info": {
   "codemirror_mode": {
    "name": "ipython",
    "version": 3
   },
   "file_extension": ".py",
   "mimetype": "text/x-python",
   "name": "python",
   "nbconvert_exporter": "python",
   "pygments_lexer": "ipython3",
   "version": "3.10.4"
  }
 },
 "nbformat": 4,
 "nbformat_minor": 5
}
