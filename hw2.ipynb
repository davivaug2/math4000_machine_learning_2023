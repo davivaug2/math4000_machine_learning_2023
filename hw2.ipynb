{
 "cells": [
  {
   "cell_type": "markdown",
   "id": "39f571e8",
   "metadata": {},
   "source": [
    "## Homework submission format \n",
    "1. For problem 1 and 2, please submit the answers in PDF format (you can scan the handwritten paper or use LaTeX).\n",
    "2. For problem 3, 4 and 5, please submit the code in Jupyter Notebook format."
   ]
  },
  {
   "cell_type": "markdown",
   "id": "e2f2f3c8",
   "metadata": {},
   "source": [
    "### Problem 1\n",
    "Compute the Hessian matrix of $L(m,b)$ on page 3 of lecture note and prove it is positive definite."
   ]
  },
  {
   "cell_type": "markdown",
   "id": "f79337cb",
   "metadata": {},
   "source": [
    "### Problem 2\n",
    "For the generalization of linear regession problem\n",
    "1. Compute $\\frac{\\partial L}{\\partial m_1}$, $\\frac{\\partial L}{\\partial m_2}$ and $\\frac{\\partial L}{\\partial b}$.\n",
    "2. Find out the values of $m_1$, $m_2$ and $b$ by solving the equations $\\frac{\\partial L}{\\partial m_1}=0$, $\\frac{\\partial L}{\\partial m_2}=0$ and $\\frac{\\partial L}{\\partial b}=0$.\n",
    "3. Compute the Hessian matrix of $L(m_1, m_2, b)$ and prove it is positive definite."
   ]
  },
  {
   "cell_type": "markdown",
   "id": "d3c20238",
   "metadata": {},
   "source": [
    "### Problem 3\n",
    "For the generalization of linear regession problem\n",
    "1. Use the result from Problem 2 to compute $m_1$, $m_2$ and $b$ for the following dataset.\n",
    "2. Plot the linear function and compare with the dataset. (Hint: the linear function depends on two variables $x_1$ and $x_2$, so you should plot it in 3D coordinates. You may follow the example here https://matplotlib.org/stable/gallery/mplot3d/surface3d.html)"
   ]
  },
  {
   "cell_type": "code",
   "execution_count": 1,
   "id": "bd499033",
   "metadata": {},
   "outputs": [],
   "source": [
    "import numpy as np\n",
    "\n",
    "N = 20\n",
    "x1 = np.random.rand(N)\n",
    "x2 = np.random.rand(N)\n",
    "y = 2*x1 + 3*x2 + 1 + np.random.rand(N) * 0.2"
   ]
  },
  {
   "cell_type": "markdown",
   "id": "588cc34d",
   "metadata": {},
   "source": [
    "### Problem 4\n",
    "Follow the example code in activation function given in lecture-01-code.ipynb\n",
    "1. Plot the ReLU function.\n",
    "2. Plot the Tanh function."
   ]
  },
  {
   "cell_type": "markdown",
   "id": "770b2347",
   "metadata": {},
   "source": [
    "### Problem 5\n",
    "1. How difficult do you think of this homework? Please give your marks between 1-5 (1 is the easiest and 5 is the most difficult).\n",
    "2. How difficult do you think of this lecture? Please give your marks between 1-5 (1 is the easiest and 5 is the most difficult).\n",
    "\n",
    "I will try to adjust the lecture and homework based on your feedback."
   ]
  },
  {
   "cell_type": "code",
   "execution_count": null,
   "id": "35f0eea4",
   "metadata": {},
   "outputs": [],
   "source": []
  }
 ],
 "metadata": {
  "kernelspec": {
   "display_name": "Python 3 (ipykernel)",
   "language": "python",
   "name": "python3"
  },
  "language_info": {
   "codemirror_mode": {
    "name": "ipython",
    "version": 3
   },
   "file_extension": ".py",
   "mimetype": "text/x-python",
   "name": "python",
   "nbconvert_exporter": "python",
   "pygments_lexer": "ipython3",
   "version": "3.9.13"
  }
 },
 "nbformat": 4,
 "nbformat_minor": 5
}
