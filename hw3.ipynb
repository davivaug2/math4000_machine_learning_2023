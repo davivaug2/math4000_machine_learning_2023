{
 "cells": [
  {
   "cell_type": "markdown",
   "id": "a3e45fb2",
   "metadata": {},
   "source": [
    "### Problem 1\n",
    "For the FNN with 2 hidden layers with 2 neurons in each layer.\n",
    "$$\n",
    "W^{(1)}=\n",
    "\\begin{pmatrix}\n",
    "1 \\\\\n",
    "1 \n",
    "\\end{pmatrix}\n",
    ",\n",
    "b^{(1)}=\n",
    "\\begin{pmatrix}\n",
    "-1 \\\\\n",
    "0\n",
    "\\end{pmatrix}\n",
    "$$\n",
    "$$\n",
    "W^{(2)}=\n",
    "\\begin{pmatrix}\n",
    "1 & -1 \\\\\n",
    "1 & 2 \n",
    "\\end{pmatrix}\n",
    ",\n",
    "b^{(2)}=\n",
    "\\begin{pmatrix}\n",
    "0 \\\\\n",
    "0\n",
    "\\end{pmatrix}\n",
    "$$\n",
    "$$\n",
    "W^{(3)}=\n",
    "\\begin{pmatrix}\n",
    "2 & 1\n",
    "\\end{pmatrix}\n",
    ",\n",
    "b^{(3)}=\n",
    "\\begin{pmatrix}\n",
    "0\n",
    "\\end{pmatrix}\n",
    "$$\n",
    "1. Plot this FNN.\n",
    "2. Compute $f(1)$."
   ]
  },
  {
   "cell_type": "markdown",
   "id": "a05a2089",
   "metadata": {},
   "source": [
    "### Problem 2\n",
    "For the FNN with $d_{in}=d_{out}=1$ and $L$ hidden layers with $H$ neurons in each layers. Count the number of parameters in this FNN."
   ]
  },
  {
   "cell_type": "markdown",
   "id": "1158f65c",
   "metadata": {},
   "source": [
    "### Problem 3\n",
    "\n",
    "For the function $f(x)=3x^4 - 4x^3 - 12x^2$\n",
    "\n",
    "1. Plot the function for $-3\\le x\\le 3$.\n",
    "2. Compute local minimum and global minimum of $f(x)$. (Hint: take derivative of $f(x)$ and solve $f'(x)=0$)\n",
    "2. Find the minimum of the function using gradient decent method. Try the following initial guess and the learning rate and explain the result.\n",
    "- Try the initial guess $x_0 = -2$ with the learning rate $10^{-3}$.\n",
    "- Try the initial guess $x_0 = 1$ with the learning rate $10^{-3}$.\n",
    "- Try the initial guess $x_0 = 1$ with the learning rate $10^{-1}$."
   ]
  },
  {
   "cell_type": "markdown",
   "id": "71a17bf5",
   "metadata": {},
   "source": [
    "### Problem 4\n",
    "For the function $f(x,y) = x^2 + y^2$\n",
    "1. Compute local minimum and global minimum of $f(x,y)$.\n",
    "2. Find the minimum of the function using gradient decent method. Use the initial guess $(x_0, y_0) = (1, 1)$ and appropriate learning rate (you can choose it by yourself)."
   ]
  }
 ],
 "metadata": {
  "kernelspec": {
   "display_name": "Python 3 (ipykernel)",
   "language": "python",
   "name": "python3"
  },
  "language_info": {
   "codemirror_mode": {
    "name": "ipython",
    "version": 3
   },
   "file_extension": ".py",
   "mimetype": "text/x-python",
   "name": "python",
   "nbconvert_exporter": "python",
   "pygments_lexer": "ipython3",
   "version": "3.9.13"
  }
 },
 "nbformat": 4,
 "nbformat_minor": 5
}
