{
 "cells": [
  {
   "cell_type": "markdown",
   "id": "d50fe98d",
   "metadata": {},
   "source": [
    "### Problem 1\n",
    "\n",
    "Read the code in the lecture note \"lecture-06-part2-ResNet\". Change the number of layers to 10, 30, 50, 70 for both the ResNet and Feedforward Neural Network (FNN). Compare the performance of ResNet and FNN, and report your observation. (You should be able to see that ResNet outperforms FNN when the number of layers is very large.)"
   ]
  }
 ],
 "metadata": {
  "kernelspec": {
   "display_name": "Python 3 (ipykernel)",
   "language": "python",
   "name": "python3"
  },
  "language_info": {
   "codemirror_mode": {
    "name": "ipython",
    "version": 3
   },
   "file_extension": ".py",
   "mimetype": "text/x-python",
   "name": "python",
   "nbconvert_exporter": "python",
   "pygments_lexer": "ipython3",
   "version": "3.10.4"
  }
 },
 "nbformat": 4,
 "nbformat_minor": 5
}
