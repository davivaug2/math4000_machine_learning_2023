{
 "cells": [
  {
   "cell_type": "code",
   "execution_count": 5,
   "id": "d4235fb6",
   "metadata": {},
   "outputs": [
    {
     "name": "stdout",
     "output_type": "stream",
     "text": [
      "21\n",
      "56\n",
      "93\n",
      "132\n",
      "173\n",
      "216\n",
      "261\n",
      "308\n",
      "357\n",
      "408\n",
      "461\n",
      "516\n",
      "573\n",
      "632\n",
      "693\n",
      "756\n",
      "821\n",
      "888\n",
      "957\n",
      "1028\n",
      "1101\n",
      "1176\n",
      "1253\n",
      "1332\n",
      "1413\n",
      "1496\n",
      "1581\n",
      "1668\n",
      "1757\n",
      "1848\n",
      "1941\n",
      "2036\n",
      "2133\n",
      "2232\n",
      "2333\n",
      "2436\n",
      "2541\n",
      "2648\n",
      "2757\n",
      "2868\n",
      "2981\n",
      "3096\n",
      "3213\n",
      "3332\n",
      "3453\n",
      "3576\n",
      "3701\n",
      "3828\n",
      "3957\n",
      "4088\n",
      "4221\n",
      "4356\n",
      "4493\n",
      "4632\n",
      "4773\n",
      "4916\n",
      "5061\n",
      "5208\n",
      "5357\n",
      "5508\n",
      "5661\n",
      "5816\n",
      "5973\n",
      "6132\n",
      "6293\n",
      "6456\n",
      "6621\n",
      "6788\n",
      "6957\n",
      "7128\n",
      "7301\n",
      "7476\n",
      "7653\n",
      "7832\n",
      "8013\n",
      "8196\n",
      "8381\n",
      "8568\n",
      "8757\n",
      "8948\n",
      "9141\n",
      "9336\n",
      "9533\n",
      "9732\n",
      "9933\n"
     ]
    }
   ],
   "source": [
    "# Problem 1\n",
    "from math import sqrt\n",
    "for i in range(1,10001):\n",
    "    a = (i + 268)\n",
    "    if sqrt(a) % 1 == 0 :\n",
    "        print(i)"
   ]
  },
  {
   "cell_type": "code",
   "execution_count": 6,
   "id": "5058bdb6",
   "metadata": {},
   "outputs": [
    {
     "name": "stdout",
     "output_type": "stream",
     "text": [
      "409113\n"
     ]
    }
   ],
   "source": [
    "# Problem 2\n",
    "from math import factorial\n",
    "sum = 0\n",
    "for i in range(1,10):\n",
    "    sum = factorial(i) + sum\n",
    "print(sum)"
   ]
  },
  {
   "cell_type": "code",
   "execution_count": 8,
   "id": "01bfe60d",
   "metadata": {},
   "outputs": [
    {
     "name": "stdout",
     "output_type": "stream",
     "text": [
      "WeLcOmE\n"
     ]
    }
   ],
   "source": [
    "# Problem 3\n",
    "string = \"Welcome\"\n",
    "output = \"\"\n",
    "\n",
    "for i in range(len(string)):\n",
    "    if i % 2:\n",
    "        output = output + string[i].lower()\n",
    "    else:\n",
    "        output = output + string[i].upper()\n",
    "        \n",
    "print(output)"
   ]
  },
  {
   "cell_type": "code",
   "execution_count": 9,
   "id": "ceb27547",
   "metadata": {},
   "outputs": [
    {
     "name": "stdout",
     "output_type": "stream",
     "text": [
      "^^^^=\n",
      "^^^==\n",
      "^^===\n",
      "^====\n",
      "=====\n"
     ]
    }
   ],
   "source": [
    "# Problem 4\n",
    "m = 4\n",
    "n = 1\n",
    "for i in range(5):\n",
    "    print(\"^\"*m + \"=\"*n)\n",
    "    m -= 1\n",
    "    n += 1"
   ]
  },
  {
   "cell_type": "code",
   "execution_count": 2,
   "id": "acfc2fac",
   "metadata": {},
   "outputs": [
    {
     "name": "stdout",
     "output_type": "stream",
     "text": [
      "P(20) = 200\n"
     ]
    }
   ],
   "source": [
    "# Problem 5\n",
    "\n",
    "def padovan(num):\n",
    "  if(num < 3):\n",
    "    return 1\n",
    "  else:\n",
    "    return padovan(num - 2) + padovan(num - 3)\n",
    "\n",
    "print(\"P(20) =\", padovan(20))"
   ]
  },
  {
   "cell_type": "code",
   "execution_count": null,
   "id": "ec43aea9",
   "metadata": {},
   "outputs": [],
   "source": []
  }
 ],
 "metadata": {
  "kernelspec": {
   "display_name": "Python 3 (ipykernel)",
   "language": "python",
   "name": "python3"
  },
  "language_info": {
   "codemirror_mode": {
    "name": "ipython",
    "version": 3
   },
   "file_extension": ".py",
   "mimetype": "text/x-python",
   "name": "python",
   "nbconvert_exporter": "python",
   "pygments_lexer": "ipython3",
   "version": "3.9.12"
  }
 },
 "nbformat": 4,
 "nbformat_minor": 5
}
