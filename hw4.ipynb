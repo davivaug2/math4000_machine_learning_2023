{
 "cells": [
  {
   "cell_type": "markdown",
   "id": "5e4bb119",
   "metadata": {},
   "source": [
    "### Install Pytorch before working on the homework.\n",
    "\n",
    "### Problem 1\n",
    "\n",
    "Run the code for feedforward neural network with 2 hidden layers and make the following change.\n",
    "\n",
    "1. Change the learning rate to 1, 0.1, 0.01, 0.001, 0.0001 and compare which one results in the smaller MSE.\n",
    "\n",
    "2. Change the mean squared loss to L1Loss function in https://pytorch.org/docs/stable/generated/torch.nn.L1Loss.html and compare with the MSE loss.\n",
    "\n",
    "3. Change the total number of iterations in optimization algorithm to 1e5, 1e6, 1e7 and see if the MSE will decrease further."
   ]
  },
  {
   "cell_type": "markdown",
   "id": "b38d7c14",
   "metadata": {},
   "source": [
    "### Problem 2\n",
    "\n",
    "Run the code for feedforward neural network with arbitrary number of hidden layers and make the following change.\n",
    "\n",
    "1. Change the number of layers to 2, 4, 6, 8. Report and explain your results. \n",
    "\n",
    "2. Change the number of neurons in each hidden layer to 8, 16, 32, 64. Report and explain your results."
   ]
  },
  {
   "cell_type": "markdown",
   "id": "71dd45f0",
   "metadata": {},
   "source": [
    "### Problem 3\n",
    "\n",
    "Run the code for feedforward neural network with 2 hidden layers. Change the number of data points to be 10000 and the function to be approximated to\n",
    "$y = \\sin(n x)$ with $n=1,10,100$. (Hint: change the line: N = 50 y_data = torch.sin(2*x_data))\n",
    "\n",
    "1. Change the number of layers to 2, 4, 6, 8. Report and explain your results. \n",
    "\n",
    "2. Change the number of neurons in each hidden layer to 8, 16, 32, 64. Report and explain your results."
   ]
  },
  {
   "cell_type": "code",
   "execution_count": null,
   "id": "073cf9a3",
   "metadata": {},
   "outputs": [],
   "source": []
  }
 ],
 "metadata": {
  "kernelspec": {
   "display_name": "Python 3 (ipykernel)",
   "language": "python",
   "name": "python3"
  },
  "language_info": {
   "codemirror_mode": {
    "name": "ipython",
    "version": 3
   },
   "file_extension": ".py",
   "mimetype": "text/x-python",
   "name": "python",
   "nbconvert_exporter": "python",
   "pygments_lexer": "ipython3",
   "version": "3.9.13"
  }
 },
 "nbformat": 4,
 "nbformat_minor": 5
}
