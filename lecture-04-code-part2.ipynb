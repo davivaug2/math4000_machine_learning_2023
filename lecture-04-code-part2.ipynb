{
 "cells": [
  {
   "cell_type": "markdown",
   "id": "1d9bb822",
   "metadata": {},
   "source": [
    "## Convolutional Neural Network\n",
    "\n",
    "- commonly applied to analyze visual imagery\n",
    "- add additional convolution and pooling layers before feedforward neural network\n"
   ]
  },
  {
   "cell_type": "markdown",
   "id": "b8850f19",
   "metadata": {},
   "source": [
    "### convolutional layer"
   ]
  },
  {
   "cell_type": "code",
   "execution_count": 67,
   "id": "156aea23",
   "metadata": {},
   "outputs": [
    {
     "name": "stdout",
     "output_type": "stream",
     "text": [
      "input image: \n",
      " tensor([[[0., 1., 2., 3., 4.],\n",
      "         [1., 2., 3., 4., 0.],\n",
      "         [2., 3., 4., 0., 1.],\n",
      "         [3., 4., 0., 1., 2.],\n",
      "         [4., 0., 1., 2., 3.]]])\n",
      "shape image: \n",
      " torch.Size([1, 5, 5])\n"
     ]
    }
   ],
   "source": [
    "import torch\n",
    "import torch.nn as nn\n",
    "\n",
    "torch.manual_seed(0)\n",
    "#1, 4, range\n",
    "#[1, 4, 4] is matrix demension\n",
    "img2 = torch.randint(1, 4, [1, 5, 5]).float()\n",
    "img=torch.tensor([([[ 0.,1.,2.,3.,4.],\n",
    "        [ 1.,2.,3.,4.,0.],\n",
    "        [ 2.,3.,4.,0.,1.],\n",
    "        [ 3.,4.,0.,1.,2.],\n",
    "        [ 4.,0.,1.,2.,3.]])])\n",
    "print('input image: \\n', img)\n",
    "print('shape image: \\n', img.shape)"
   ]
  },
  {
   "cell_type": "code",
   "execution_count": 68,
   "id": "8167e8b5",
   "metadata": {
    "scrolled": true
   },
   "outputs": [
    {
     "name": "stdout",
     "output_type": "stream",
     "text": [
      "weight : \n",
      " tensor([[[[-0.1718,  0.2103,  0.1954],\n",
      "          [-0.1478, -0.0120,  0.2132],\n",
      "          [ 0.3314,  0.1323,  0.0450]]]])\n",
      "bias : \n",
      " tensor([0.2235])\n"
     ]
    }
   ],
   "source": [
    "cnn3 = nn.Conv2d(in_channels=1, out_channels=1, kernel_size=3)\n",
    "cnn2 = nn.Conv2d(in_channels=1, out_channels=1, kernel_size=3, padding=1)\n",
    "cnn = nn.Conv2d(in_channels=1, out_channels=1, kernel_size=3, stride=2, padding=1)\n",
    "#cnn = nn.Conv2d(in_channels=1, out_channels=2, kernel_size=3, stride=2, padding=1)\n",
    "\n",
    "# weight: of size (out_channels, in_channels, kernel_size[0], kernel_size[1])\n",
    "# bias: of size (out_channels)\n",
    "for name, param in cnn.named_parameters():\n",
    "    if param.requires_grad:\n",
    "        print(name, ': \\n', param.data)"
   ]
  },
  {
   "cell_type": "code",
   "execution_count": 69,
   "id": "73f92f39",
   "metadata": {},
   "outputs": [
    {
     "name": "stdout",
     "output_type": "stream",
     "text": [
      "weight : \n",
      " tensor([[[[ 1.,  1.,  1.],\n",
      "          [-1., -1., -1.],\n",
      "          [ 0.,  0.,  0.]]]])\n",
      "bias : \n",
      " tensor([2.])\n"
     ]
    }
   ],
   "source": [
    "# to better illustrate convolution operations, change the parameters from random numbers to some integers in CNN\n",
    "w, b = cnn.weight, cnn.bias\n",
    "\n",
    "w_np = w.detach().numpy()\n",
    "w_np[0,0,0,:] = 1.\n",
    "w_np[0,0,1,:] = -1.\n",
    "w_np[0,0,2,:] = 0.\n",
    "\n",
    "b_np = b.detach().numpy()\n",
    "b_np[0] = 2.\n",
    "\n",
    "cnn.weight = torch.nn.Parameter(torch.from_numpy(w_np))\n",
    "cnn.bias = torch.nn.Parameter(torch.from_numpy(b_np))\n",
    "for name, param in cnn.named_parameters():\n",
    "    if param.requires_grad:\n",
    "        print(name, ': \\n', param.data)    "
   ]
  },
  {
   "cell_type": "markdown",
   "id": "5b3812c7",
   "metadata": {},
   "source": [
    "#### Basic operators in convolutional layer\n",
    "- step 1: element-wise matrix multiplication\n",
    "$$\n",
    "\\begin{pmatrix}\n",
    "3 & 1 & 3 \\\\\n",
    "2 & 1 & 2 \\\\\n",
    "2 & 1 & 3\n",
    "\\end{pmatrix}\n",
    "\\odot\n",
    "\\begin{pmatrix}\n",
    "1 & 1 & 1 \\\\\n",
    "-1 & -1 & -1 \\\\\n",
    "0 & 0 & 0\n",
    "\\end{pmatrix}\n",
    "=\n",
    "\\begin{pmatrix}\n",
    "3 & 1 & 3 \\\\\n",
    "-2 & -1 & -2 \\\\\n",
    "0 & 0 & 0\n",
    "\\end{pmatrix}\n",
    "$$\n",
    "\n",
    "- step 2: summation of all the elements\n",
    "$$\n",
    "3 + 1 + 3 + (-2) + (-1) + (-2) + 0 + 0 + 0 = 2\n",
    "$$\n",
    "\n",
    "- step 3: add bias\n",
    "$$\n",
    "2 + 2 = 4\n",
    "$$"
   ]
  },
  {
   "cell_type": "markdown",
   "id": "e0cc5292",
   "metadata": {},
   "source": [
    "### padding: adding zeros around the matrix\n",
    "before padding: matrix of size 4 * 4\n",
    "$$\n",
    "\\begin{pmatrix}\n",
    "3 & 1 & 3 & 1 \\\\\n",
    "2 & 1 & 2 & 2 \\\\\n",
    "2 & 1 & 3 & 3 \\\\\n",
    "1 & 1 & 2 & 3\n",
    "\\end{pmatrix}\n",
    "$$\n",
    "\n",
    "after padding: matrix of size 6 * 6\n",
    "$$\n",
    "\\begin{pmatrix}\n",
    "0 & 0 & 0 & 0 & 0 & 0 \\\\\n",
    "0 & 3 & 1 & 3 & 1 & 0 \\\\\n",
    "0 & 2 & 1 & 2 & 2 & 0 \\\\\n",
    "0 & 2 & 1 & 3 & 3 & 0 \\\\\n",
    "0 & 1 & 1 & 2 & 3 & 0 \\\\\n",
    "0 & 0 & 0 & 0 & 0 & 0\n",
    "\\end{pmatrix}\n",
    "$$"
   ]
  },
  {
   "cell_type": "code",
   "execution_count": 70,
   "id": "dafa4546",
   "metadata": {},
   "outputs": [
    {
     "name": "stdout",
     "output_type": "stream",
     "text": [
      "output image: \n",
      " tensor([[[ 1., -4., -5.],\n",
      "         [ 0.,  4.,  5.],\n",
      "         [ 5.,  4.,  0.]]], grad_fn=<SqueezeBackward1>)\n"
     ]
    }
   ],
   "source": [
    "out = cnn(img)\n",
    "print('output image: \\n', out)"
   ]
  },
  {
   "cell_type": "markdown",
   "id": "f4c754cd",
   "metadata": {},
   "source": [
    "#### Output Formula for Convolution\n",
    "- $ O = \\frac {W - K + 2P}{S} + 1$\n",
    "    - $O$: output size\n",
    "    - $W$: input size\n",
    "    - $K$: kernel size\n",
    "    - $P$: same padding (non-zero)\n",
    "        - $P = \\frac{K - 1}{2}  = \\frac{5 - 1}{2} = 2$\n",
    "    - $S$: stride"
   ]
  },
  {
   "cell_type": "markdown",
   "id": "491c8c18",
   "metadata": {},
   "source": [
    "### Pooling layer\n",
    "reduce the dimensions of the hidden layer by combining the outputs of neuron clusters at the previous layer into a single neuron in the next layer"
   ]
  },
  {
   "cell_type": "code",
   "execution_count": 61,
   "id": "74efeb07",
   "metadata": {},
   "outputs": [
    {
     "name": "stdout",
     "output_type": "stream",
     "text": [
      "input image: \n",
      " tensor([[[1., 2., 3., 3.],\n",
      "         [2., 3., 1., 2.],\n",
      "         [2., 2., 3., 2.],\n",
      "         [2., 3., 2., 2.]]])\n"
     ]
    }
   ],
   "source": [
    "img = torch.randint(1, 4, [1, 4, 4]).float()\n",
    "print('input image: \\n', img)"
   ]
  },
  {
   "cell_type": "code",
   "execution_count": 62,
   "id": "bbfec784",
   "metadata": {},
   "outputs": [
    {
     "name": "stdout",
     "output_type": "stream",
     "text": [
      "output image: \n",
      " tensor([[[3., 3.],\n",
      "         [3., 3.]]])\n",
      "output image: \n",
      " tensor([[[3., 3., 3.],\n",
      "         [3., 3., 3.],\n",
      "         [3., 3., 3.]]])\n",
      "output image: \n",
      " tensor([[[1., 2., 3., 3., 3.],\n",
      "         [2., 3., 3., 3., 3.],\n",
      "         [2., 3., 3., 3., 2.],\n",
      "         [2., 3., 3., 3., 2.],\n",
      "         [2., 3., 3., 2., 2.]]])\n"
     ]
    }
   ],
   "source": [
    "maxpool = nn.MaxPool2d(kernel_size=2)\n",
    "maxpool2 = nn.MaxPool2d(kernel_size=2, stride=1)\n",
    "maxpool3 = nn.MaxPool2d(kernel_size=2, stride=1, padding=1)\n",
    "\n",
    "out = maxpool(img)\n",
    "out2 = maxpool2(img)\n",
    "out3 = maxpool3(img)\n",
    "print('output image: \\n', out)\n",
    "print('output image: \\n', out2)\n",
    "print('output image: \\n', out3)"
   ]
  },
  {
   "cell_type": "markdown",
   "id": "e922c1b6",
   "metadata": {},
   "source": [
    "#### Output Formula for Pooling\n",
    "- $ O = \\frac {W - K}{S} + 1$\n",
    "    - W: input size\n",
    "    - K: kernel size\n",
    "    - S: stride size = kernel size, PyTorch defaults the stride to kernel filter size\n",
    "        - If using PyTorch default stride, this will result in the formula $ O = \\frac {W}{K}$"
   ]
  },
  {
   "cell_type": "code",
   "execution_count": null,
   "id": "084a8743",
   "metadata": {},
   "outputs": [],
   "source": []
  }
 ],
 "metadata": {
  "kernelspec": {
   "display_name": "Python 3 (ipykernel)",
   "language": "python",
   "name": "python3"
  },
  "language_info": {
   "codemirror_mode": {
    "name": "ipython",
    "version": 3
   },
   "file_extension": ".py",
   "mimetype": "text/x-python",
   "name": "python",
   "nbconvert_exporter": "python",
   "pygments_lexer": "ipython3",
   "version": "3.9.13"
  },
  "vscode": {
   "interpreter": {
    "hash": "64165d061f1520ab7d121a7a19199cbac06e5deac1296a5016743a69ede8fd69"
   }
  }
 },
 "nbformat": 4,
 "nbformat_minor": 5
}
