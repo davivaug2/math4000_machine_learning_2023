{
 "cells": [
  {
   "cell_type": "markdown",
   "id": "20de851b",
   "metadata": {},
   "source": [
    "#  David Vaughan  R1166390\n",
    "# (MATH-4000-004)\n",
    "# Homework 1 01/25/2023\n",
    "#  Spring 2023 TTU Selected Topics: Machine learning model order reduction for differential equations (MATH-4000-004) Full Term: Homework for week 1 (due 01/25)"
   ]
  },
  {
   "cell_type": "markdown",
   "id": "5f5c228b",
   "metadata": {},
   "source": [
    "### Problem 1\n",
    "Find out all the integers between 1 and 10000, which satisfies that this integer plus 268 is a square number."
   ]
  },
  {
   "cell_type": "code",
   "execution_count": 75,
   "id": "8fc16b25",
   "metadata": {},
   "outputs": [],
   "source": [
    "### num is 268\n",
    "# list stores int + num that are square number\n",
    "### Square numbers can also be called perfect square numbers.\n",
    "# a square number or perfect square is an integer that is the square of an integer \n",
    "# in other words, it is the product of some integer with itself. \n",
    "#For example, 9 is a square number, since it equals 3 to the power 2 and can be written as 3 × 3. \n",
    "\n",
    "# Probably  more effecient way to do this function\n",
    "# add int between 1 and 10000 with 256, square root it , then if it is a int then it is a square number and add it to a list\n",
    "import math\n",
    "def prob1(start,end,num,list):\n",
    "    ### num is 268\n",
    "    # python will end on 9999 if end is 10000 so add 1\n",
    "    for i in range(start, end+1):\n",
    "        x = i + num\n",
    "        y = math.sqrt(x)\n",
    "        # If y is a int/whole number then it will be from a perfect square. \n",
    "        if (y.is_integer()) == True:\n",
    "            # print(i)\n",
    "            list.append(i)\n",
    "        \n",
    "    print(\"done with function\")\n"
   ]
  },
  {
   "cell_type": "code",
   "execution_count": 76,
   "id": "a9c75c21",
   "metadata": {},
   "outputs": [
    {
     "name": "stdout",
     "output_type": "stream",
     "text": [
      "done with function\n"
     ]
    }
   ],
   "source": [
    "list1 =[]\n",
    "prob1(1,10000,268,list1)"
   ]
  },
  {
   "cell_type": "code",
   "execution_count": 77,
   "id": "08155d5e",
   "metadata": {},
   "outputs": [
    {
     "name": "stdout",
     "output_type": "stream",
     "text": [
      "[21, 56, 93, 132, 173, 216, 261, 308, 357, 408, 461, 516, 573, 632, 693, 756, 821, 888, 957, 1028, 1101, 1176, 1253, 1332, 1413, 1496, 1581, 1668, 1757, 1848, 1941, 2036, 2133, 2232, 2333, 2436, 2541, 2648, 2757, 2868, 2981, 3096, 3213, 3332, 3453, 3576, 3701, 3828, 3957, 4088, 4221, 4356, 4493, 4632, 4773, 4916, 5061, 5208, 5357, 5508, 5661, 5816, 5973, 6132, 6293, 6456, 6621, 6788, 6957, 7128, 7301, 7476, 7653, 7832, 8013, 8196, 8381, 8568, 8757, 8948, 9141, 9336, 9533, 9732, 9933]\n"
     ]
    }
   ],
   "source": [
    "print(list1)\n",
    "# 21 + 268 = 289 square root 17\n",
    "#\n",
    "# 9933 + 268 = 10201 square root 101\n",
    "# probably could do something with this info"
   ]
  },
  {
   "cell_type": "markdown",
   "id": "1ae8cb14",
   "metadata": {},
   "source": [
    "### Answer to Problem 1\n",
    "21, 56, 93, 132, 173, 216, 261, 308, 357, 408, 461, 516, 573, 632, 693, 756, 821, 888, 957, 1028, 1101, 1176, 1253, 1332, 1413, 1496, 1581, 1668, 1757, 1848, 1941, 2036, 2133, 2232, 2333, 2436, 2541, 2648, 2757, 2868, 2981, 3096, 3213, 3332, 3453, 3576, 3701, 3828, 3957, 4088, 4221, 4356, 4493, 4632, 4773, 4916, 5061, 5208, 5357, 5508, 5661, 5816, 5973, 6132, 6293, 6456, 6621, 6788, 6957, 7128, 7301, 7476, 7653, 7832, 8013, 8196, 8381, 8568, 8757, 8948, 9141, 9336, 9533, 9732, 9933\n"
   ]
  },
  {
   "cell_type": "markdown",
   "id": "a07aa541",
   "metadata": {},
   "source": [
    "### Problem 2\n",
    "The factorial of any positive integer $k$ is defined as:\n",
    "$$k! = k \\times (k-1) \\times \\cdots \\times 2 \\times 1$$\n",
    "Compute the following expression:\n",
    "$$\\sum_{k=1}^9 k!$$"
   ]
  },
  {
   "cell_type": "code",
   "execution_count": 78,
   "id": "f6456542",
   "metadata": {},
   "outputs": [],
   "source": [
    "###\n",
    "# list not necessary\n",
    "# use for loop and math factorial function to add them together\n",
    "#  diferent ways to do this at bottom of file\n",
    "import math\n",
    "def prob2Fac(start,end,fac_list):\n",
    "    sum = 0\n",
    "    # python will end on 8 if end is 9 so add 1\n",
    "    for i in range(start, end+1):\n",
    "        # Use math module  to calculate factorial instead of list\n",
    "        print (\"k is \",i)\n",
    "        fac = math.factorial(i)\n",
    "        \n",
    "        fac_list.append(fac)\n",
    "        print(\"Factorial of k is\",fac)\n",
    "        sum += fac\n",
    "    print(\"sum is\",sum)\n",
    "    print(\"done with function\")\n",
    "    return sum"
   ]
  },
  {
   "cell_type": "code",
   "execution_count": 79,
   "id": "6d9bba11",
   "metadata": {},
   "outputs": [
    {
     "name": "stdout",
     "output_type": "stream",
     "text": [
      "k is  1\n",
      "Factorial of k is 1\n",
      "k is  2\n",
      "Factorial of k is 2\n",
      "k is  3\n",
      "Factorial of k is 6\n",
      "k is  4\n",
      "Factorial of k is 24\n",
      "k is  5\n",
      "Factorial of k is 120\n",
      "k is  6\n",
      "Factorial of k is 720\n",
      "k is  7\n",
      "Factorial of k is 5040\n",
      "k is  8\n",
      "Factorial of k is 40320\n",
      "k is  9\n",
      "Factorial of k is 362880\n",
      "sum is 409113\n",
      "done with function\n"
     ]
    }
   ],
   "source": [
    "factorial_list = []\n",
    "sum = prob2Fac(1,9,factorial_list)"
   ]
  },
  {
   "cell_type": "code",
   "execution_count": 80,
   "id": "dbda5145",
   "metadata": {},
   "outputs": [
    {
     "name": "stdout",
     "output_type": "stream",
     "text": [
      "409113\n"
     ]
    }
   ],
   "source": [
    "print(sum)"
   ]
  },
  {
   "cell_type": "markdown",
   "id": "4e6d3826",
   "metadata": {},
   "source": [
    "### Answer to Problem 2\n",
    "409113\n"
   ]
  },
  {
   "cell_type": "markdown",
   "id": "3abb4492",
   "metadata": {},
   "source": [
    "### Problem 3\n",
    "Give a string consists of several letters. If the letter is in the even-position, convert it to lower case; if the letter is in the odd-position, convert it to upper case.\n",
    "For example, if the given string is \"Morning\", the the result should be \"MoRnInG\".\n",
    "\n",
    "Convert the string \"Welcome\" and print the result."
   ]
  },
  {
   "cell_type": "code",
   "execution_count": 81,
   "id": "8bed9f19",
   "metadata": {},
   "outputs": [],
   "source": [
    "###\n",
    "# \n",
    "# in Python Welcome is 0-6 with W at 0\n",
    "# Assume for problem 1-7 with W at 1\n",
    "# Go through the length of the word, check if even or odd.\n",
    "# if odd convert to upper case and add that charachter it to a new string\n",
    "# else if even convert it to lower case and add  to new string\n",
    "def prob3(word):\n",
    "    new_word = \"\"\n",
    "    size = len(word)\n",
    "    print (\"len of word is\",size)\n",
    "    print(\"word at 0 is\",word[0])\n",
    "    print(\"word at 6 is\",word[6])\n",
    "    for i in range(0, size):\n",
    "        \n",
    "        x = i+1\n",
    "        # print(x)\n",
    "        # Check if even\n",
    "        if(x%2) == 0:\n",
    "            new_word = new_word+ word[i].lower() \n",
    "            #print(\"even\")\n",
    "        else:\n",
    "            new_word = new_word+ word[i].upper() \n",
    "            #print(\"odd\")\n",
    "        \n",
    "    print(\"done with function 3\")\n",
    "    return new_word"
   ]
  },
  {
   "cell_type": "code",
   "execution_count": 82,
   "id": "7fc800fc",
   "metadata": {},
   "outputs": [
    {
     "name": "stdout",
     "output_type": "stream",
     "text": [
      "len of word is 7\n",
      "word at 0 is W\n",
      "word at 6 is e\n",
      "done with function 3\n"
     ]
    }
   ],
   "source": [
    "word = \"Welcome\"\n",
    "word2 = prob3(word)"
   ]
  },
  {
   "cell_type": "code",
   "execution_count": 83,
   "id": "ac5b829d",
   "metadata": {},
   "outputs": [
    {
     "name": "stdout",
     "output_type": "stream",
     "text": [
      "WeLcOmE\n"
     ]
    }
   ],
   "source": [
    "print(word2)"
   ]
  },
  {
   "cell_type": "markdown",
   "id": "44cdf105",
   "metadata": {},
   "source": [
    "### Answer to Problem 3\n",
    "WeLcOmE\n"
   ]
  },
  {
   "cell_type": "markdown",
   "id": "fc2ffe48",
   "metadata": {},
   "source": [
    "### Problem 4\n",
    "Use for loop to print the following pattern:\n",
    "\n",
    "^^^^= \\\n",
    "^^^== \\\n",
    "^^=== \\\n",
    "^==== \\\n",
    "====="
   ]
  },
  {
   "cell_type": "code",
   "execution_count": 84,
   "id": "85b0fee5",
   "metadata": {},
   "outputs": [],
   "source": [
    "###\n",
    "# \n",
    "def prob4c(length):\n",
    "    x = length\n",
    "    for i in range(length):\n",
    "        # the ^ charachter should get smaller with ever line, x achieves that\n",
    "        x -= 1\n",
    "        for _ in range(x):\n",
    "            print('^', end='')\n",
    "        # gets bigger ever line\n",
    "        for p in range(i+1):\n",
    "            print('=', end='')\n",
    "        print(\"\")\n",
    "    print(\"done with function\")"
   ]
  },
  {
   "cell_type": "code",
   "execution_count": 85,
   "id": "68351c25",
   "metadata": {},
   "outputs": [
    {
     "name": "stdout",
     "output_type": "stream",
     "text": [
      "^^^^=\n",
      "^^^==\n",
      "^^===\n",
      "^====\n",
      "=====\n",
      "done with function\n"
     ]
    }
   ],
   "source": [
    "prob4c(5)"
   ]
  },
  {
   "cell_type": "markdown",
   "id": "999d7435",
   "metadata": {},
   "source": [
    "### Answer to Problem 4\n",
    "^^^^= \\\n",
    "^^^== \\\n",
    "^^=== \\\n",
    "^==== \\\n",
    "=====\n"
   ]
  },
  {
   "cell_type": "markdown",
   "id": "1ba9f835",
   "metadata": {},
   "source": [
    "### Problem 5\n",
    "In number theory, the Padovan sequence is the sequence of integers $P(n)$ defined by the initial values\n",
    "$$P(0) = P(1) = P(2) = 1$$\n",
    "and the recurrence relation\n",
    "$$P(n) = P(n-2) + P(n-3)$$\n",
    "For example, the first few values of $P(n)$ are\n",
    "1, 1, 1, 2, 2, 3, 4, 5, 7, 9\n",
    "\n",
    "Compute and print $P(20)$."
   ]
  },
  {
   "cell_type": "code",
   "execution_count": 86,
   "id": "97a18bc5",
   "metadata": {},
   "outputs": [],
   "source": [
    "###\n",
    "# use a list to keep track of previous numbers in the Padovan sequence. \n",
    "# Use previous numbers in list to calulate new values that are added to list\n",
    "def prob5(end,pad_list):\n",
    "    for i in range(3, end+1):\n",
    "        x = pad_list[i-2] + pad_list[i-3]\n",
    "        pad_list.append(x)\n",
    "    print(\"done with function\")\n",
    "\n",
    "    \n",
    "   "
   ]
  },
  {
   "cell_type": "code",
   "execution_count": 87,
   "id": "01b99f58",
   "metadata": {},
   "outputs": [
    {
     "name": "stdout",
     "output_type": "stream",
     "text": [
      "done with function\n"
     ]
    }
   ],
   "source": [
    "padov_list = [1,1,1]\n",
    "prob5(20,padov_list)"
   ]
  },
  {
   "cell_type": "code",
   "execution_count": 88,
   "id": "1314a701",
   "metadata": {},
   "outputs": [
    {
     "name": "stdout",
     "output_type": "stream",
     "text": [
      "[1, 1, 1, 2, 2, 3, 4, 5, 7, 9, 12, 16, 21, 28, 37, 49, 65, 86, 114, 151, 200]\n"
     ]
    }
   ],
   "source": [
    "print(padov_list)"
   ]
  },
  {
   "cell_type": "markdown",
   "id": "dd60b792",
   "metadata": {},
   "source": [
    "### Answer to Problem 5\n",
    "1, 1, 1, 2, 2, 3, 4, 5, 7, 9, 12, 16, 21, 28, 37, 49, 65, 86, 114, 151, 200"
   ]
  },
  {
   "cell_type": "markdown",
   "id": "dc7f5765",
   "metadata": {},
   "source": [
    "### END OF HOMEWORK\n",
    "#\n",
    "#\n",
    "#\n",
    "#\n",
    "#"
   ]
  },
  {
   "cell_type": "markdown",
   "id": "7e06c5ad",
   "metadata": {},
   "source": [
    "### Before you work on this homework, please self-study the following list:\n",
    "1. Anaconda: a platform of Python packages for scientific computing (data science, machine learning applications, large-scale data processing, predictive analytics, etc.)\n",
    "    - download and install Anaconda from https://www.anaconda.com/\n",
    "    - install Python and Jupyter notebook in Anaconda\n",
    "2. Python:\n",
    "    - read and go through all the examples in this website: https://learnxinyminutes.com/docs/python/\n",
    "    - learn how to run Python code in your computer\n",
    "2. Jupyter:\n",
    "    - learn how to run Jupyter Notebook\n",
    "3. Markdown: a plain text markup language\n",
    "    - read and go through all the examples in this website: https://learnxinyminutes.com/docs/markdown/"
   ]
  },
  {
   "cell_type": "markdown",
   "id": "f28a8d01",
   "metadata": {},
   "source": [
    "### Please first read the examples and then work on the following homework (Problem 1-5). Submit your solution code in the format of Jupyter Notebook as in the examples."
   ]
  },
  {
   "cell_type": "markdown",
   "id": "6ac0ffe7",
   "metadata": {},
   "source": [
    "### Example 1:\n",
    "Compute and print the summation of all the integers from 1 to 100:\n",
    "$$\\sum_{k=1}^{100} k$$\n",
    "#### Solution:"
   ]
  },
  {
   "cell_type": "code",
   "execution_count": 89,
   "id": "998f2514",
   "metadata": {},
   "outputs": [
    {
     "name": "stdout",
     "output_type": "stream",
     "text": [
      "5050\n"
     ]
    }
   ],
   "source": [
    "sum = 0\n",
    "for x in range(1, 101):\n",
    "    #print(x)\n",
    "    sum += x\n",
    "print(sum)"
   ]
  },
  {
   "cell_type": "markdown",
   "id": "702f0429",
   "metadata": {},
   "source": [
    "### Example 2:\n",
    "Use for loop to print the following pattern:\n",
    "\n",
    "= \\\n",
    "== \\\n",
    "=== \\\n",
    "==== \\\n",
    "=====\n",
    "#### Solution:"
   ]
  },
  {
   "cell_type": "code",
   "execution_count": 90,
   "id": "a11fa8f5",
   "metadata": {},
   "outputs": [
    {
     "name": "stdout",
     "output_type": "stream",
     "text": [
      "=l\n",
      "==l\n",
      "===l\n",
      "====l\n",
      "=====l\n"
     ]
    }
   ],
   "source": [
    "row = 5\n",
    "for i in range(row):\n",
    "    for _ in range(i + 1):\n",
    "        print('=', end='')\n",
    "    print(\"l\")"
   ]
  },
  {
   "cell_type": "code",
   "execution_count": 91,
   "id": "df5a6601",
   "metadata": {},
   "outputs": [],
   "source": [
    "###\n",
    "# list not necessary\n",
    "def prob2Fac(start,end,factorial_previous):\n",
    "    sum = 0\n",
    "    # python will end on 8 if end is 9 so add 1\n",
    "    for i in range(start, end+1):\n",
    "        # Use math module  to calculate factorial instead of list\n",
    "        print (\"k is \",i)\n",
    "        factorial_previous = i*factorial_previous\n",
    "        print(\"Factorial of k is\",factorial_previous)\n",
    "        sum += factorial_previous\n",
    "    print(\"sum is\",sum)\n",
    "    print(\"done with function\")\n",
    "    return sum"
   ]
  },
  {
   "cell_type": "code",
   "execution_count": 92,
   "id": "eb418032",
   "metadata": {},
   "outputs": [
    {
     "name": "stdout",
     "output_type": "stream",
     "text": [
      "k is  1\n",
      "Factorial of k is 1\n",
      "k is  2\n",
      "Factorial of k is 2\n",
      "k is  3\n",
      "Factorial of k is 6\n",
      "k is  4\n",
      "Factorial of k is 24\n",
      "k is  5\n",
      "Factorial of k is 120\n",
      "k is  6\n",
      "Factorial of k is 720\n",
      "k is  7\n",
      "Factorial of k is 5040\n",
      "k is  8\n",
      "Factorial of k is 40320\n",
      "k is  9\n",
      "Factorial of k is 362880\n",
      "sum is 409113\n",
      "done with function\n"
     ]
    }
   ],
   "source": [
    "#\n",
    "sum = prob2Fac(1,9,1)"
   ]
  },
  {
   "cell_type": "code",
   "execution_count": 93,
   "id": "7ce776b5",
   "metadata": {},
   "outputs": [],
   "source": [
    "###\n",
    "# \n",
    "def prob4(length):\n",
    "    x = length\n",
    "    y = 0\n",
    "    for i in range(length):\n",
    "        y +=1\n",
    "        x -= 1\n",
    "        for _ in range(x):\n",
    "            print('^', end='')\n",
    "        for w in range(y):\n",
    "            print('=', end='')\n",
    "        print(\"\")\n",
    "    print(\"done with function\")"
   ]
  },
  {
   "cell_type": "code",
   "execution_count": 94,
   "id": "9a600ec1",
   "metadata": {},
   "outputs": [
    {
     "name": "stdout",
     "output_type": "stream",
     "text": [
      "^^^^=\n",
      "^^^==\n",
      "^^===\n",
      "^====\n",
      "=====\n",
      "done with function\n"
     ]
    }
   ],
   "source": [
    "prob4(5)"
   ]
  },
  {
   "cell_type": "code",
   "execution_count": 95,
   "id": "8351e3ab",
   "metadata": {},
   "outputs": [],
   "source": [
    "# online different ways to replace Strings\n",
    "# Ways to replace elements in string\n",
    "# Method 1: replace character in string by index\n",
    "def replace_char1(str, index, char):\n",
    "    str = list(str)\n",
    "    str[index] = char\n",
    "    return ''.join(str)\n",
    "\n",
    "# method 2: using string slicing\n",
    "def replace_char2(str, index, char):\n",
    "    str = str[:index] + char + str[index+1:]\n",
    "    return str"
   ]
  },
  {
   "cell_type": "code",
   "execution_count": 96,
   "id": "049f585d",
   "metadata": {},
   "outputs": [],
   "source": [
    "# Online Python program to check even number\n",
    "# using sympy.is_even() method\n",
    "# importing sympy module\n",
    "# from sympy import \n",
    "# calling is_evenfunction on different numbers\n",
    "#  geek1 = simplify(30).is_even"
   ]
  },
  {
   "cell_type": "code",
   "execution_count": 97,
   "id": "6c5df943",
   "metadata": {},
   "outputs": [
    {
     "name": "stdout",
     "output_type": "stream",
     "text": [
      "True\n",
      "False\n"
     ]
    }
   ],
   "source": [
    "import math\n",
    "x = math.sqrt(9)\n",
    "print(x.is_integer())\n",
    "y= math.sqrt(8)\n",
    "print(y.is_integer())"
   ]
  },
  {
   "cell_type": "code",
   "execution_count": null,
   "id": "b35d061a",
   "metadata": {},
   "outputs": [],
   "source": []
  }
 ],
 "metadata": {
  "kernelspec": {
   "display_name": "Python 3 (ipykernel)",
   "language": "python",
   "name": "python3"
  },
  "language_info": {
   "codemirror_mode": {
    "name": "ipython",
    "version": 3
   },
   "file_extension": ".py",
   "mimetype": "text/x-python",
   "name": "python",
   "nbconvert_exporter": "python",
   "pygments_lexer": "ipython3",
   "version": "3.9.13"
  }
 },
 "nbformat": 4,
 "nbformat_minor": 5
}
