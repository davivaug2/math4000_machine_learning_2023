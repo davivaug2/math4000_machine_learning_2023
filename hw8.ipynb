{
 "cells": [
  {
   "cell_type": "markdown",
   "id": "a5e9796d",
   "metadata": {},
   "source": [
    "### Problem 1"
   ]
  },
  {
   "cell_type": "markdown",
   "id": "dcc29d18",
   "metadata": {},
   "source": [
    "Read the code for solving ODE system in the lecture note. Modify it to solve the following ODE system for $0\\le t \\le 1$:\n",
    "$$\n",
    "\\begin{aligned}\n",
    "\\frac{dx}{dt} &= x \\\\\n",
    "\\frac{dy}{dt} &= -x + 2y\n",
    "\\end{aligned}\n",
    "$$\n",
    "with the initial condition\n",
    "$$\n",
    "x(0) = -1, \\quad y(0) = 1.\n",
    "$$\n",
    "In the figure, compare the neural network solution with the exact solution:\n",
    "$$\n",
    "x(t) = -e^t, \\quad y(t) = -e^t + e^{2t}.\n",
    "$$"
   ]
  },
  {
   "cell_type": "markdown",
   "id": "406b268a",
   "metadata": {},
   "source": [
    "### Problem 2"
   ]
  },
  {
   "cell_type": "markdown",
   "id": "90639c08",
   "metadata": {},
   "source": [
    "Read the code for solving Poisson equation in the lecture note. Modify it to solve the following Laplace equation for $0\\le x\\le 1$:\n",
    "$$\n",
    "\\frac{d^2 u}{d x^2} = 0,\n",
    "$$\n",
    "with Dirichlet boundary condition on the left boundary\n",
    "$$\n",
    "u(0) = 1\n",
    "$$\n",
    "and Dirichlet boundary condition on the right boundary\n",
    "$$\n",
    "u(1) = 2.\n",
    "$$\n",
    "In the figure, compare the neural network solution with the exact solution:\n",
    "$$\n",
    "u(x) = x + 1.\n",
    "$$"
   ]
  },
  {
   "cell_type": "markdown",
   "id": "ddc74c58",
   "metadata": {},
   "source": [
    "### Problem 3\n",
    "- How difficult do you think of this homework? Please give your marks between 1-5 (1 is the easiest and 5 is the most difficult).\n",
    "- How difficult do you think of this lecture? Please give your marks between 1-5 (1 is the easiest and 5 is the most difficult).\n",
    "\n",
    "I will try to adjust the lecture and homework based on your feedback."
   ]
  }
 ],
 "metadata": {
  "kernelspec": {
   "display_name": "Python 3 (ipykernel)",
   "language": "python",
   "name": "python3"
  },
  "language_info": {
   "codemirror_mode": {
    "name": "ipython",
    "version": 3
   },
   "file_extension": ".py",
   "mimetype": "text/x-python",
   "name": "python",
   "nbconvert_exporter": "python",
   "pygments_lexer": "ipython3",
   "version": "3.10.4"
  }
 },
 "nbformat": 4,
 "nbformat_minor": 5
}
