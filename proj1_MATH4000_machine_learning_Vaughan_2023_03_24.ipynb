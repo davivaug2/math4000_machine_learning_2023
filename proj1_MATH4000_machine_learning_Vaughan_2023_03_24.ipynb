{
  "cells": [
    {
      "cell_type": "markdown",
      "metadata": {
        "id": "view-in-github",
        "colab_type": "text"
      },
      "source": [
        "<a href=\"https://colab.research.google.com/github/davivaug2/math4000_machine_learning_2023/blob/main/proj1_MATH4000_machine_learning_Vaughan_2023_03_24.ipynb\" target=\"_parent\"><img src=\"https://colab.research.google.com/assets/colab-badge.svg\" alt=\"Open In Colab\"/></a>"
      ]
    },
    {
      "cell_type": "code",
      "execution_count": 1,
      "metadata": {
        "colab": {
          "base_uri": "https://localhost:8080/"
        },
        "id": "M0FwQl00kzd8",
        "outputId": "abc01bf6-8d12-47f4-dcf4-8e4cfe0c7efd"
      },
      "outputs": [
        {
          "output_type": "stream",
          "name": "stdout",
          "text": [
            "cuda:0\n"
          ]
        }
      ],
      "source": [
        "import torch\n",
        "device = torch.device('cuda:0' if torch.cuda.is_available() else 'cpu')\n",
        "\n",
        "# Assuming that we are on a CUDA machine, this should print a CUDA device:\n",
        "\n",
        "print(device)"
      ]
    },
    {
      "cell_type": "code",
      "execution_count": 1,
      "metadata": {
        "id": "gxWiYCHpoT3R"
      },
      "outputs": [],
      "source": []
    },
    {
      "cell_type": "code",
      "execution_count": 2,
      "metadata": {
        "colab": {
          "base_uri": "https://localhost:8080/",
          "height": 104,
          "referenced_widgets": [
            "4ac0d5d0c36c43489fae16c68134c23d",
            "5241369e241a4c9aad820c2218893f58",
            "7fabd2f48cc84953ad2575aa230455c0",
            "1e0127ecfbc8420da2dd015bc5411a03",
            "78adbd26e87c4e5aa73a5049485c3330",
            "bea7c1252d7442ca963740c36b03a3c6",
            "373722dad8bc4eb698bab40f2e93cf78",
            "036ab851af4643c8838a3aef15aa17c1",
            "2d6ba2b7b4164907ad7f95ae9d442279",
            "8e0052bf2756492abe57dac33638f1ba",
            "82d79cc9fafe4440a06fbea38cfc8590"
          ]
        },
        "id": "KfdF5Js9nJSi",
        "outputId": "87823f62-8363-4dae-a411-208bc336959f"
      },
      "outputs": [
        {
          "output_type": "stream",
          "name": "stdout",
          "text": [
            "Downloading https://www.cs.toronto.edu/~kriz/cifar-10-python.tar.gz to ./data/cifar-10-python.tar.gz\n"
          ]
        },
        {
          "output_type": "display_data",
          "data": {
            "text/plain": [
              "  0%|          | 0/170498071 [00:00<?, ?it/s]"
            ],
            "application/vnd.jupyter.widget-view+json": {
              "version_major": 2,
              "version_minor": 0,
              "model_id": "4ac0d5d0c36c43489fae16c68134c23d"
            }
          },
          "metadata": {}
        },
        {
          "output_type": "stream",
          "name": "stdout",
          "text": [
            "Extracting ./data/cifar-10-python.tar.gz to ./data\n"
          ]
        }
      ],
      "source": [
        "import torch\n",
        "import torch.nn as nn\n",
        "import torchvision.transforms as transforms\n",
        "import torchvision.datasets as dsets\n",
        "\n",
        "train_dataset = dsets.CIFAR10(root='./data', \n",
        "                            train=True, \n",
        "                            transform=transforms.ToTensor(),\n",
        "                            download=True)\n",
        "\n",
        "test_dataset = dsets.CIFAR10(root='./data', \n",
        "                           train=False, \n",
        "                           transform=transforms.ToTensor())"
      ]
    },
    {
      "cell_type": "code",
      "execution_count": 4,
      "metadata": {
        "colab": {
          "base_uri": "https://localhost:8080/",
          "height": 300
        },
        "id": "AqEKb5n9oUky",
        "outputId": "b2c31bdf-79e3-418c-bf7c-b6760d139ab8"
      },
      "outputs": [
        {
          "output_type": "stream",
          "name": "stdout",
          "text": [
            "torch.Size([3, 32, 32])\n",
            "6\n",
            "size torch.Size([3, 32, 32])\n"
          ]
        },
        {
          "output_type": "display_data",
          "data": {
            "text/plain": [
              "<Figure size 432x288 with 1 Axes>"
            ],
            "image/png": "[encoded data removed]"
          },
          "metadata": {
            "needs_background": "light"
          }
        }
      ],
      "source": [
        "import matplotlib.pyplot as plt\n",
        "\n",
        "img, label = train_dataset[0]\n",
        "print(img.shape)\n",
        "print(label)\n",
        "\n",
        "plt.figure()\n",
        "plt.axis(\"off\")\n",
        "print(\"size\",img.size())\n",
        "#plt.imshow(img.squeeze(), cmap=\"gray\")"
      ]
    },
    {
      "cell_type": "code",
      "execution_count": 3,
      "metadata": {
        "id": "d_Cg3C9foYg0"
      },
      "outputs": [],
      "source": [
        "batch_size = 100\n",
        "n_iters = 3000\n",
        "num_epochs = n_iters / (len(train_dataset) / batch_size)\n",
        "num_epochs = int(num_epochs)\n",
        "\n",
        "train_loader = torch.utils.data.DataLoader(dataset=train_dataset, \n",
        "                                           batch_size=batch_size, \n",
        "                                           shuffle=True)\n",
        "\n",
        "test_loader = torch.utils.data.DataLoader(dataset=test_dataset, \n",
        "                                          batch_size=batch_size, \n",
        "                                          shuffle=False)"
      ]
    },
    {
      "cell_type": "code",
      "execution_count": 5,
      "metadata": {
        "id": "mXsQg1UuocWy"
      },
      "outputs": [],
      "source": [
        "class CIFAR(nn.Module):\n",
        "        \n",
        "    def __init__(self):\n",
        "        super(CIFAR, self).__init__()\n",
        "        \"\"\"\n",
        "        nn . Conv2d ( 3 , 6 4 , k e r n e l s i z e =3, s t r i d e =2, padding =1) ,\n",
        "        nn . ReLU ( ) ,\n",
        "        nn . MaxPool2d ( k e r n e l s i z e =2) ,\n",
        "        nn . Conv2d ( 6 4 , 1 9 2 , k e r n e l s i z e =3, padding =1) ,\n",
        "        nn . ReLU ( ) ,\n",
        "        nn . MaxPool2d ( k e r n e l s i z e =2) ,\n",
        "        nn . Conv2d ( 1 9 2 , 3 8 4 , k e r n e l s i z e =3, padding =1) ,\n",
        "        nn . ReLU ( ) ,\n",
        "        nn . Conv2d ( 3 8 4 , 2 5 6 , k e r n e l s i z e =3, padding =1) ,\n",
        "        nn . ReLU ( ) ,\n",
        "        nn . Conv2d ( 2 5 6 , 2 5 6 , k e r n e l s i z e =3, padding =1) ,\n",
        "        nn . ReLU ( ) ,\n",
        "        nn . MaxPool2d ( k e r n e l s i z e =2) \n",
        "        \"\"\"\n",
        "        # Convolution 1\n",
        "        self.cnn1 = nn.Conv2d(in_channels=3, out_channels=64, kernel_size=3, stride=2, padding=1)\n",
        "#         self.act1 = nn.Sigmoid()\n",
        "        self.act1 = nn.ReLU()        \n",
        "        #pool 1\n",
        "        self.pool1 = nn.MaxPool2d(kernel_size=2)\n",
        "        # Convolution 2\n",
        "        # try \n",
        "        self.cnn2 = nn.Conv2d(in_channels=64, out_channels=192, kernel_size=3, stride=1, padding=1)\n",
        "#         self.act2 = nn.Sigmoid()\n",
        "        self.act2 = nn.ReLU()\n",
        "        #pool 2\n",
        "        self.pool2 = nn.MaxPool2d(kernel_size=2)\n",
        "\n",
        "        # Convolution 3\n",
        "        self.cnn3 = nn.Conv2d(in_channels=192, out_channels=384, kernel_size=3, stride=1, padding=1)\n",
        "#         self.act2 = nn.Sigmoid()\n",
        "        self.act3 = nn.ReLU()\n",
        "\n",
        "        # Convolution 4\n",
        "        self.cnn4 = nn.Conv2d(in_channels=384, out_channels=256, kernel_size=3, stride=1, padding=1)\n",
        "        # activatin function\n",
        "        self.act4 = nn.ReLU()\n",
        "\n",
        "        # Convolution 5\n",
        "        self.cnn5 = nn.Conv2d(in_channels=256, out_channels=256, kernel_size=3, stride=1, padding=1)\n",
        "        # activatin function\n",
        "        self.act5 = nn.ReLU()\n",
        "        self.pool3 = nn.MaxPool2d(kernel_size=2)\n",
        "        \n",
        "\n",
        "\n",
        "        # change fc\n",
        "        # Fully connected 1 (readout)\n",
        "        self.fc1 = nn.Linear(256*2*2, 100256*2*20)\n",
        "        self.act6 = nn.ReLU()\n",
        "        self.drop1 = nn.Dropout(p=0.5)\n",
        "        \n",
        "        #self.fc2 = nn.Linear(120,84)\n",
        "        self.act7 = nn.ReLU()\n",
        "        self.drop2 = nn.Dropout(p=0.5)\n",
        "        self.fc2 = nn.Linear(256*2*2, 256*2*2)\n",
        "        \n",
        "        \n",
        "    def forward(self, x):\n",
        "        #flag =0\n",
        "        # input: x, size (num_img, 28, 28)\n",
        "        \n",
        "        # Convolution 1\n",
        "        # O = (28 - 5 + 2*2)/ 1 + 1 = 28\n",
        "        # output: size (num_img, 6, 28, 28)\n",
        "        \n",
        "        out = self.cnn1(x)\n",
        "     #   if flag == 1:\n",
        "     #     print(out.size())\n",
        "        out = self.act1(out)\n",
        "        #pool 1\n",
        "        # O = (28)/2= 14\n",
        "        # output: size (num_img, 6, 14, 14)\n",
        "        out = self.pool1(out)\n",
        "    #    if flag == 1:\n",
        "     #     print(out.size())\n",
        "\n",
        "        # Convolution 2\n",
        "        # O = (14 - 5)/ 1 + 1 = 10\n",
        "        # output: size (num_img, 16, 10, 10)\n",
        "        out = self.cnn2(out)\n",
        "        out = self.act2(out)\n",
        "        #pool 2\n",
        "        # O = 10 / 2 = 5\n",
        "        # output: size (num_img, 16, 5, 5)\n",
        "        out = self.pool2(out)\n",
        "      #  if flag == 1:\n",
        "      #    print(out.size())\n",
        "        \n",
        "        out = self.cnn3(out)\n",
        "        out = self.act3(out)\n",
        "     #   if flag == 1:\n",
        "      #    print(out.size())\n",
        "        #\n",
        "        out = self.cnn4(out)\n",
        "        out = self.act4(out)\n",
        "    #    if flag == 1:\n",
        "     #     print(out.size())\n",
        "        #\n",
        "        out = self.cnn5(out)\n",
        "        out = self.act5(out)\n",
        "        out = self.pool3(out)\n",
        "     #   if flag == 1:\n",
        "    #      print(out.size())\n",
        "        \n",
        "        out = out.view(out.size(0), -1)\n",
        "        out = self.fc1(out)\n",
        "        \n",
        "        out = self.act6(out)\n",
        "        out = self.drop1(out)\n",
        "        #\n",
        "        out = self.act7(out)\n",
        "        out = self.drop2(out)\n",
        "        out = self.fc2(out)\n",
        "        \n",
        "        return out    "
      ]
    },
    {
      "cell_type": "code",
      "execution_count": null,
      "metadata": {
        "id": "LXKkJZjqofei"
      },
      "outputs": [],
      "source": [
        "model = CIFAR()"
      ]
    },
    {
      "cell_type": "code",
      "execution_count": null,
      "metadata": {
        "id": "bteyNsUJoigL"
      },
      "outputs": [],
      "source": [
        "criterion = nn.CrossEntropyLoss()"
      ]
    },
    {
      "cell_type": "code",
      "execution_count": null,
      "metadata": {
        "id": "vKStE_AWokUL"
      },
      "outputs": [],
      "source": [
        "learning_rate = 0.01\n",
        "\n",
        "optimizer = torch.optim.Adam(model.parameters(), lr=learning_rate)"
      ]
    },
    {
      "cell_type": "code",
      "execution_count": null,
      "metadata": {
        "id": "RCsEh4iComtb"
      },
      "outputs": [],
      "source": [
        "iter = 0\n",
        "for epoch in range(num_epochs):\n",
        "    for i, (images, labels) in enumerate(train_loader):\n",
        "        # Load images\n",
        "        images = images.requires_grad_()\n",
        "\n",
        "        # Clear gradients w.r.t. parameters\n",
        "        optimizer.zero_grad()\n",
        "\n",
        "        # Forward pass to get output/logits\n",
        "        outputs = model(images)\n",
        "\n",
        "        # Calculate Loss: softmax --> cross entropy loss\n",
        "        loss = criterion(outputs, labels)\n",
        "\n",
        "        # Getting gradients w.r.t. parameters\n",
        "        loss.backward()\n",
        "\n",
        "        # Updating parameters\n",
        "        optimizer.step()\n",
        "\n",
        "        iter += 1\n",
        "\n",
        "        if iter % 500 == 0:\n",
        "            # Calculate Accuracy         \n",
        "            correct = 0\n",
        "            total = 0\n",
        "            # Iterate through test dataset\n",
        "            for images, labels in test_loader:\n",
        "                # Load images\n",
        "                images = images.requires_grad_()\n",
        "\n",
        "                # Forward pass only to get logits/output\n",
        "                outputs = model(images)\n",
        "\n",
        "                # Get predictions from the maximum value\n",
        "                _, predicted = torch.max(outputs.data, 1)\n",
        "\n",
        "                # Total number of labels\n",
        "                total += labels.size(0)\n",
        "\n",
        "                # Total correct predictions\n",
        "                correct += (predicted == labels).sum()\n",
        "\n",
        "            accuracy = 100 * correct / total\n",
        "\n",
        "            # Print Loss\n",
        "            print('Iteration: {}. Loss: {}. Accuracy: {}'.format(iter, loss.item(), accuracy))"
      ]
    },
    {
      "cell_type": "code",
      "execution_count": null,
      "metadata": {
        "id": "98O83PU1o9y-"
      },
      "outputs": [],
      "source": []
    },
    {
      "cell_type": "code",
      "execution_count": null,
      "metadata": {
        "id": "_neMrw8KpKo3"
      },
      "outputs": [],
      "source": []
    }
  ],
  "metadata": {
    "accelerator": "GPU",
    "colab": {
      "provenance": [],
      "authorship_tag": "ABX9TyM8dqCzfR0SX3EWZ78+/8xq",
      "include_colab_link": true
    },
    "gpuClass": "standard",
    "kernelspec": {
      "display_name": "Python 3",
      "name": "python3"
    },
    "language_info": {
      "name": "python"
    },
    "widgets": {
      "application/vnd.jupyter.widget-state+json": {
        "4ac0d5d0c36c43489fae16c68134c23d": {
          "model_module": "@jupyter-widgets/controls",
          "model_name": "HBoxModel",
          "model_module_version": "1.5.0",
          "state": {
            "_dom_classes": [],
            "_model_module": "@jupyter-widgets/controls",
            "_model_module_version": "1.5.0",
            "_model_name": "HBoxModel",
            "_view_count": null,
            "_view_module": "@jupyter-widgets/controls",
            "_view_module_version": "1.5.0",
            "_view_name": "HBoxView",
            "box_style": "",
            "children": [
              "IPY_MODEL_5241369e241a4c9aad820c2218893f58",
              "IPY_MODEL_7fabd2f48cc84953ad2575aa230455c0",
              "IPY_MODEL_1e0127ecfbc8420da2dd015bc5411a03"
            ],
            "layout": "IPY_MODEL_78adbd26e87c4e5aa73a5049485c3330"
          }
        },
        "5241369e241a4c9aad820c2218893f58": {
          "model_module": "@jupyter-widgets/controls",
          "model_name": "HTMLModel",
          "model_module_version": "1.5.0",
          "state": {
            "_dom_classes": [],
            "_model_module": "@jupyter-widgets/controls",
            "_model_module_version": "1.5.0",
            "_model_name": "HTMLModel",
            "_view_count": null,
            "_view_module": "@jupyter-widgets/controls",
            "_view_module_version": "1.5.0",
            "_view_name": "HTMLView",
            "description": "",
            "description_tooltip": null,
            "layout": "IPY_MODEL_bea7c1252d7442ca963740c36b03a3c6",
            "placeholder": "​",
            "style": "IPY_MODEL_373722dad8bc4eb698bab40f2e93cf78",
            "value": "100%"
          }
        },
        "7fabd2f48cc84953ad2575aa230455c0": {
          "model_module": "@jupyter-widgets/controls",
          "model_name": "FloatProgressModel",
          "model_module_version": "1.5.0",
          "state": {
            "_dom_classes": [],
            "_model_module": "@jupyter-widgets/controls",
            "_model_module_version": "1.5.0",
            "_model_name": "FloatProgressModel",
            "_view_count": null,
            "_view_module": "@jupyter-widgets/controls",
            "_view_module_version": "1.5.0",
            "_view_name": "ProgressView",
            "bar_style": "success",
            "description": "",
            "description_tooltip": null,
            "layout": "IPY_MODEL_036ab851af4643c8838a3aef15aa17c1",
            "max": 170498071,
            "min": 0,
            "orientation": "horizontal",
            "style": "IPY_MODEL_2d6ba2b7b4164907ad7f95ae9d442279",
            "value": 170498071
          }
        },
        "1e0127ecfbc8420da2dd015bc5411a03": {
          "model_module": "@jupyter-widgets/controls",
          "model_name": "HTMLModel",
          "model_module_version": "1.5.0",
          "state": {
            "_dom_classes": [],
            "_model_module": "@jupyter-widgets/controls",
            "_model_module_version": "1.5.0",
            "_model_name": "HTMLModel",
            "_view_count": null,
            "_view_module": "@jupyter-widgets/controls",
            "_view_module_version": "1.5.0",
            "_view_name": "HTMLView",
            "description": "",
            "description_tooltip": null,
            "layout": "IPY_MODEL_8e0052bf2756492abe57dac33638f1ba",
            "placeholder": "​",
            "style": "IPY_MODEL_82d79cc9fafe4440a06fbea38cfc8590",
            "value": " 170498071/170498071 [00:05&lt;00:00, 28211339.22it/s]"
          }
        },
        "78adbd26e87c4e5aa73a5049485c3330": {
          "model_module": "@jupyter-widgets/base",
          "model_name": "LayoutModel",
          "model_module_version": "1.2.0",
          "state": {
            "_model_module": "@jupyter-widgets/base",
            "_model_module_version": "1.2.0",
            "_model_name": "LayoutModel",
            "_view_count": null,
            "_view_module": "@jupyter-widgets/base",
            "_view_module_version": "1.2.0",
            "_view_name": "LayoutView",
            "align_content": null,
            "align_items": null,
            "align_self": null,
            "border": null,
            "bottom": null,
            "display": null,
            "flex": null,
            "flex_flow": null,
            "grid_area": null,
            "grid_auto_columns": null,
            "grid_auto_flow": null,
            "grid_auto_rows": null,
            "grid_column": null,
            "grid_gap": null,
            "grid_row": null,
            "grid_template_areas": null,
            "grid_template_columns": null,
            "grid_template_rows": null,
            "height": null,
            "justify_content": null,
            "justify_items": null,
            "left": null,
            "margin": null,
            "max_height": null,
            "max_width": null,
            "min_height": null,
            "min_width": null,
            "object_fit": null,
            "object_position": null,
            "order": null,
            "overflow": null,
            "overflow_x": null,
            "overflow_y": null,
            "padding": null,
            "right": null,
            "top": null,
            "visibility": null,
            "width": null
          }
        },
        "bea7c1252d7442ca963740c36b03a3c6": {
          "model_module": "@jupyter-widgets/base",
          "model_name": "LayoutModel",
          "model_module_version": "1.2.0",
          "state": {
            "_model_module": "@jupyter-widgets/base",
            "_model_module_version": "1.2.0",
            "_model_name": "LayoutModel",
            "_view_count": null,
            "_view_module": "@jupyter-widgets/base",
            "_view_module_version": "1.2.0",
            "_view_name": "LayoutView",
            "align_content": null,
            "align_items": null,
            "align_self": null,
            "border": null,
            "bottom": null,
            "display": null,
            "flex": null,
            "flex_flow": null,
            "grid_area": null,
            "grid_auto_columns": null,
            "grid_auto_flow": null,
            "grid_auto_rows": null,
            "grid_column": null,
            "grid_gap": null,
            "grid_row": null,
            "grid_template_areas": null,
            "grid_template_columns": null,
            "grid_template_rows": null,
            "height": null,
            "justify_content": null,
            "justify_items": null,
            "left": null,
            "margin": null,
            "max_height": null,
            "max_width": null,
            "min_height": null,
            "min_width": null,
            "object_fit": null,
            "object_position": null,
            "order": null,
            "overflow": null,
            "overflow_x": null,
            "overflow_y": null,
            "padding": null,
            "right": null,
            "top": null,
            "visibility": null,
            "width": null
          }
        },
        "373722dad8bc4eb698bab40f2e93cf78": {
          "model_module": "@jupyter-widgets/controls",
          "model_name": "DescriptionStyleModel",
          "model_module_version": "1.5.0",
          "state": {
            "_model_module": "@jupyter-widgets/controls",
            "_model_module_version": "1.5.0",
            "_model_name": "DescriptionStyleModel",
            "_view_count": null,
            "_view_module": "@jupyter-widgets/base",
            "_view_module_version": "1.2.0",
            "_view_name": "StyleView",
            "description_width": ""
          }
        },
        "036ab851af4643c8838a3aef15aa17c1": {
          "model_module": "@jupyter-widgets/base",
          "model_name": "LayoutModel",
          "model_module_version": "1.2.0",
          "state": {
            "_model_module": "@jupyter-widgets/base",
            "_model_module_version": "1.2.0",
            "_model_name": "LayoutModel",
            "_view_count": null,
            "_view_module": "@jupyter-widgets/base",
            "_view_module_version": "1.2.0",
            "_view_name": "LayoutView",
            "align_content": null,
            "align_items": null,
            "align_self": null,
            "border": null,
            "bottom": null,
            "display": null,
            "flex": null,
            "flex_flow": null,
            "grid_area": null,
            "grid_auto_columns": null,
            "grid_auto_flow": null,
            "grid_auto_rows": null,
            "grid_column": null,
            "grid_gap": null,
            "grid_row": null,
            "grid_template_areas": null,
            "grid_template_columns": null,
            "grid_template_rows": null,
            "height": null,
            "justify_content": null,
            "justify_items": null,
            "left": null,
            "margin": null,
            "max_height": null,
            "max_width": null,
            "min_height": null,
            "min_width": null,
            "object_fit": null,
            "object_position": null,
            "order": null,
            "overflow": null,
            "overflow_x": null,
            "overflow_y": null,
            "padding": null,
            "right": null,
            "top": null,
            "visibility": null,
            "width": null
          }
        },
        "2d6ba2b7b4164907ad7f95ae9d442279": {
          "model_module": "@jupyter-widgets/controls",
          "model_name": "ProgressStyleModel",
          "model_module_version": "1.5.0",
          "state": {
            "_model_module": "@jupyter-widgets/controls",
            "_model_module_version": "1.5.0",
            "_model_name": "ProgressStyleModel",
            "_view_count": null,
            "_view_module": "@jupyter-widgets/base",
            "_view_module_version": "1.2.0",
            "_view_name": "StyleView",
            "bar_color": null,
            "description_width": ""
          }
        },
        "8e0052bf2756492abe57dac33638f1ba": {
          "model_module": "@jupyter-widgets/base",
          "model_name": "LayoutModel",
          "model_module_version": "1.2.0",
          "state": {
            "_model_module": "@jupyter-widgets/base",
            "_model_module_version": "1.2.0",
            "_model_name": "LayoutModel",
            "_view_count": null,
            "_view_module": "@jupyter-widgets/base",
            "_view_module_version": "1.2.0",
            "_view_name": "LayoutView",
            "align_content": null,
            "align_items": null,
            "align_self": null,
            "border": null,
            "bottom": null,
            "display": null,
            "flex": null,
            "flex_flow": null,
            "grid_area": null,
            "grid_auto_columns": null,
            "grid_auto_flow": null,
            "grid_auto_rows": null,
            "grid_column": null,
            "grid_gap": null,
            "grid_row": null,
            "grid_template_areas": null,
            "grid_template_columns": null,
            "grid_template_rows": null,
            "height": null,
            "justify_content": null,
            "justify_items": null,
            "left": null,
            "margin": null,
            "max_height": null,
            "max_width": null,
            "min_height": null,
            "min_width": null,
            "object_fit": null,
            "object_position": null,
            "order": null,
            "overflow": null,
            "overflow_x": null,
            "overflow_y": null,
            "padding": null,
            "right": null,
            "top": null,
            "visibility": null,
            "width": null
          }
        },
        "82d79cc9fafe4440a06fbea38cfc8590": {
          "model_module": "@jupyter-widgets/controls",
          "model_name": "DescriptionStyleModel",
          "model_module_version": "1.5.0",
          "state": {
            "_model_module": "@jupyter-widgets/controls",
            "_model_module_version": "1.5.0",
            "_model_name": "DescriptionStyleModel",
            "_view_count": null,
            "_view_module": "@jupyter-widgets/base",
            "_view_module_version": "1.2.0",
            "_view_name": "StyleView",
            "description_width": ""
          }
        }
      }
    }
  },
  "nbformat": 4,
  "nbformat_minor": 0
}