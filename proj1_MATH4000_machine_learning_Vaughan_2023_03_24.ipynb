{
  "cells": [
    {
      "cell_type": "markdown",
      "metadata": {
        "id": "view-in-github",
        "colab_type": "text"
      },
      "source": [
        "<a href=\"https://colab.research.google.com/github/davivaug2/math4000_machine_learning_2023/blob/main/proj1_MATH4000_machine_learning_Vaughan_2023_03_24.ipynb\" target=\"_parent\"><img src=\"https://colab.research.google.com/assets/colab-badge.svg\" alt=\"Open In Colab\"/></a>"
      ]
    },
    {
      "cell_type": "markdown",
      "source": [
        "DAVID VAUGHAN\n",
        "proj1_MATH4000_machine_learning_Vaughan_2023_03_24"
      ],
      "metadata": {
        "id": "TZszm3scJeH6"
      }
    },
    {
      "cell_type": "code",
      "execution_count": 11,
      "metadata": {
        "id": "M0FwQl00kzd8",
        "colab": {
          "base_uri": "https://localhost:8080/"
        },
        "outputId": "ca270b6a-6886-4218-bc0f-5dd456455d3d"
      },
      "outputs": [
        {
          "output_type": "stream",
          "name": "stdout",
          "text": [
            "cuda:0\n"
          ]
        }
      ],
      "source": [
        "import torch\n",
        "device = torch.device('cuda:0' if torch.cuda.is_available() else 'cpu')\n",
        "\n",
        "# Assuming that we are on a CUDA machine, this should print a CUDA device:\n",
        "\n",
        "print(device)"
      ]
    },
    {
      "cell_type": "code",
      "execution_count": 11,
      "metadata": {
        "id": "gxWiYCHpoT3R"
      },
      "outputs": [],
      "source": []
    },
    {
      "cell_type": "code",
      "execution_count": 12,
      "metadata": {
        "colab": {
          "base_uri": "https://localhost:8080/"
        },
        "id": "KfdF5Js9nJSi",
        "outputId": "83f42112-3e7c-4eb2-cecf-d166daeaf59b"
      },
      "outputs": [
        {
          "output_type": "stream",
          "name": "stdout",
          "text": [
            "Files already downloaded and verified\n",
            "Files already downloaded and verified\n"
          ]
        }
      ],
      "source": [
        "import torch\n",
        "import torchvision\n",
        "import torch.nn as nn\n",
        "import torchvision.transforms as transforms\n",
        "import torchvision.datasets as dsets\n",
        "\n",
        "transform = transforms.Compose(\n",
        "    [transforms.ToTensor(),\n",
        "     transforms.Normalize((0.5, 0.5, 0.5), (0.5, 0.5, 0.5))])\n",
        "\n",
        "batch_size = 150\n",
        "n_iters = 10000\n",
        "#batch_size = 4\n",
        "\n",
        "trainset = torchvision.datasets.CIFAR10(root='./data', train=True,\n",
        "                                        download=True, transform=transform)\n",
        "trainloader = torch.utils.data.DataLoader(trainset, batch_size=batch_size,\n",
        "                                          shuffle=True, num_workers=2)\n",
        "\n",
        "testset = torchvision.datasets.CIFAR10(root='./data', train=False,\n",
        "                                       download=True, transform=transform)\n",
        "testloader = torch.utils.data.DataLoader(testset, batch_size=batch_size,\n",
        "                                         shuffle=False, num_workers=2)\n",
        "\n",
        "classes = ('plane', 'car', 'bird', 'cat',\n",
        "           'deer', 'dog', 'frog', 'horse', 'ship', 'truck')\n",
        "\n",
        "\n",
        "\n",
        "num_epochs = n_iters / (len(trainset) / batch_size)\n",
        "num_epochs = int(num_epochs)\n",
        "\n",
        "#trainset.to(torch.device(\"cuda:0\"))\n",
        "#trainloader.to(torch.device(\"cuda:0\"))\n",
        "#testset.to(torch.device(\"cuda:0\"))\n",
        "#testloader.to(torch.device(\"cuda:0\"))"
      ]
    },
    {
      "cell_type": "code",
      "execution_count": 13,
      "metadata": {
        "id": "mXsQg1UuocWy"
      },
      "outputs": [],
      "source": [
        "class CIFAR(nn.Module):\n",
        "        \n",
        "    def __init__(self):\n",
        "        super(CIFAR, self).__init__()\n",
        "        \"\"\"\n",
        "        nn . Conv2d ( 3 , 6 4 , k e r n e l s i z e =3, s t r i d e =2, padding =1) ,\n",
        "        nn . ReLU ( ) ,\n",
        "        nn . MaxPool2d ( k e r n e l s i z e =2) ,\n",
        "        nn . Conv2d ( 6 4 , 1 9 2 , k e r n e l s i z e =3, padding =1) ,\n",
        "        nn . ReLU ( ) ,\n",
        "        nn . MaxPool2d ( k e r n e l s i z e =2) ,\n",
        "        nn . Conv2d ( 1 9 2 , 3 8 4 , k e r n e l s i z e =3, padding =1) ,\n",
        "        nn . ReLU ( ) ,\n",
        "        nn . Conv2d ( 3 8 4 , 2 5 6 , k e r n e l s i z e =3, padding =1) ,\n",
        "        nn . ReLU ( ) ,\n",
        "        nn . Conv2d ( 2 5 6 , 2 5 6 , k e r n e l s i z e =3, padding =1) ,\n",
        "        nn . ReLU ( ) ,\n",
        "        nn . MaxPool2d ( k e r n e l s i z e =2) \n",
        "        \"\"\"\n",
        "        # Convolution 1\n",
        "        self.cnn1 = nn.Conv2d(in_channels=3, out_channels=64, kernel_size=3, stride=2, padding=1)\n",
        "#         self.act1 = nn.Sigmoid()\n",
        "        self.act1 = nn.ReLU()        \n",
        "        #pool 1\n",
        "        self.pool1 = nn.MaxPool2d(kernel_size=2)\n",
        "        # Convolution 2\n",
        "        # try \n",
        "        self.cnn2 = nn.Conv2d(in_channels=64, out_channels=192, kernel_size=3, stride=1, padding=1)\n",
        "#         self.act2 = nn.Sigmoid()\n",
        "        self.act2 = nn.ReLU()\n",
        "        #pool 2\n",
        "        self.pool2 = nn.MaxPool2d(kernel_size=2)\n",
        "        # Convolution 3\n",
        "        self.cnn3 = nn.Conv2d(in_channels=192, out_channels=384, kernel_size=3, stride=1, padding=1)\n",
        "#         self.act2 = nn.Sigmoid()\n",
        "        self.act3 = nn.ReLU()\n",
        "        # Convolution 4\n",
        "        self.cnn4 = nn.Conv2d(in_channels=384, out_channels=256, kernel_size=3, stride=1, padding=1)\n",
        "        # activatin function\n",
        "        self.act4 = nn.ReLU()\n",
        "        # Convolution 5\n",
        "        self.cnn5 = nn.Conv2d(in_channels=256, out_channels=256, kernel_size=3, stride=1, padding=1)\n",
        "        # activatin function\n",
        "        self.act5 = nn.ReLU()\n",
        "        self.pool3 = nn.MaxPool2d(kernel_size=2)\n",
        "        # change fc\n",
        "        # Fully connected 1 (readout)\n",
        "        #256*2*2=1024\n",
        "        self.fc1 = nn.Linear(256*2*2, 4096)\n",
        "        self.act6 = nn.ReLU()\n",
        "        self.drop1 = nn.Dropout(p=0.5)\n",
        "        #self.fc2 = nn.Linear(120,84)\n",
        "        self.fc2 = nn.Linear(4096, 4096)\n",
        "        self.act7 = nn.ReLU()\n",
        "        self.drop2 = nn.Dropout(p=0.5)\n",
        "        self.fc3 = nn.Linear(4096, 10)\n",
        "    def forward(self, x):\n",
        "        #flag =0\n",
        "        # input: x, size (num_img, 28, 28)\n",
        "        # Convolution 1\n",
        "        # O = (28 - 5 + 2*2)/ 1 + 1 = 28\n",
        "        # output: size (num_img, 6, 28, 28)\n",
        "        out = self.cnn1(x)\n",
        "     #   if flag == 1:\n",
        "     #     print(out.size())\n",
        "        out = self.act1(out)\n",
        "        #pool 1\n",
        "        # O = (28)/2= 14\n",
        "        # output: size (num_img, 6, 14, 14)\n",
        "        out = self.pool1(out)\n",
        "    #    if flag == 1:\n",
        "     #     print(out.size())\n",
        "        # Convolution 2\n",
        "        # O = (14 - 5)/ 1 + 1 = 10\n",
        "        # output: size (num_img, 16, 10, 10)\n",
        "        out = self.cnn2(out)\n",
        "        out = self.act2(out)\n",
        "        #pool 2\n",
        "        # O = 10 / 2 = 5\n",
        "        # output: size (num_img, 16, 5, 5)\n",
        "        out = self.pool2(out)\n",
        "      #  if flag == 1:\n",
        "      #    print(out.size())\n",
        "        out = self.cnn3(out)\n",
        "        out = self.act3(out)\n",
        "     #   if flag == 1:\n",
        "      #    print(out.size())\n",
        "        #\n",
        "        out = self.cnn4(out)\n",
        "        out = self.act4(out)\n",
        "    #    if flag == 1:\n",
        "     #     print(out.size())\n",
        "        out = self.cnn5(out)\n",
        "        out = self.act5(out)\n",
        "        out = self.pool3(out)\n",
        "     #   if flag == 1:\n",
        "    #      print(out.size())  \n",
        "        #out = out.view(out.size(0), -1)\n",
        "        out = torch.flatten(out, 1)\n",
        "        out = self.fc1(out)\n",
        "        \n",
        "        out = self.act6(out)\n",
        "        out = self.drop1(out)\n",
        "        #\n",
        "        out = self.fc2(out)\n",
        "        out = self.act7(out)\n",
        "        out = self.drop2(out)\n",
        "        \n",
        "        out = self.fc3(out)\n",
        "        \n",
        "        return out    "
      ]
    },
    {
      "cell_type": "code",
      "execution_count": 14,
      "metadata": {
        "id": "LXKkJZjqofei",
        "colab": {
          "base_uri": "https://localhost:8080/"
        },
        "outputId": "c08fda0c-94c1-4d06-ee29-a2ffc88969a8"
      },
      "outputs": [
        {
          "output_type": "execute_result",
          "data": {
            "text/plain": [
              "CIFAR(\n",
              "  (cnn1): Conv2d(3, 64, kernel_size=(3, 3), stride=(2, 2), padding=(1, 1))\n",
              "  (act1): ReLU()\n",
              "  (pool1): MaxPool2d(kernel_size=2, stride=2, padding=0, dilation=1, ceil_mode=False)\n",
              "  (cnn2): Conv2d(64, 192, kernel_size=(3, 3), stride=(1, 1), padding=(1, 1))\n",
              "  (act2): ReLU()\n",
              "  (pool2): MaxPool2d(kernel_size=2, stride=2, padding=0, dilation=1, ceil_mode=False)\n",
              "  (cnn3): Conv2d(192, 384, kernel_size=(3, 3), stride=(1, 1), padding=(1, 1))\n",
              "  (act3): ReLU()\n",
              "  (cnn4): Conv2d(384, 256, kernel_size=(3, 3), stride=(1, 1), padding=(1, 1))\n",
              "  (act4): ReLU()\n",
              "  (cnn5): Conv2d(256, 256, kernel_size=(3, 3), stride=(1, 1), padding=(1, 1))\n",
              "  (act5): ReLU()\n",
              "  (pool3): MaxPool2d(kernel_size=2, stride=2, padding=0, dilation=1, ceil_mode=False)\n",
              "  (fc1): Linear(in_features=1024, out_features=4096, bias=True)\n",
              "  (act6): ReLU()\n",
              "  (drop1): Dropout(p=0.5, inplace=False)\n",
              "  (fc2): Linear(in_features=4096, out_features=4096, bias=True)\n",
              "  (act7): ReLU()\n",
              "  (drop2): Dropout(p=0.5, inplace=False)\n",
              "  (fc3): Linear(in_features=4096, out_features=10, bias=True)\n",
              ")"
            ]
          },
          "metadata": {},
          "execution_count": 14
        }
      ],
      "source": [
        "model = CIFAR()\n",
        "model.to(torch.device(\"cuda:0\"))"
      ]
    },
    {
      "cell_type": "code",
      "execution_count": 15,
      "metadata": {
        "id": "bteyNsUJoigL"
      },
      "outputs": [],
      "source": [
        "criterion = nn.CrossEntropyLoss()"
      ]
    },
    {
      "cell_type": "code",
      "execution_count": 16,
      "metadata": {
        "id": "vKStE_AWokUL"
      },
      "outputs": [],
      "source": [
        "learning_rate = 0.0001\n",
        "\n",
        "optimizer = torch.optim.Adam(model.parameters(), lr=learning_rate)"
      ]
    },
    {
      "cell_type": "code",
      "execution_count": 17,
      "metadata": {
        "id": "RCsEh4iComtb",
        "colab": {
          "base_uri": "https://localhost:8080/",
          "height": 1000
        },
        "outputId": "8be33390-bc1b-4e6d-d227-41e2d6fc1c25"
      },
      "outputs": [
        {
          "output_type": "stream",
          "name": "stdout",
          "text": [
            "Iteration: 250. Loss: 1.554603934288025. Accuracy: 38.5099983215332\n",
            "Iteration: 500. Loss: 1.3994088172912598. Accuracy: 47.349998474121094\n",
            "Iteration: 750. Loss: 1.3534222841262817. Accuracy: 53.80999755859375\n",
            "Iteration: 1000. Loss: 1.1427838802337646. Accuracy: 55.98999786376953\n",
            "Iteration: 1250. Loss: 1.131565809249878. Accuracy: 57.72999954223633\n",
            "Iteration: 1500. Loss: 1.041473627090454. Accuracy: 60.44999694824219\n",
            "Iteration: 1750. Loss: 0.8731799125671387. Accuracy: 63.119998931884766\n",
            "Iteration: 2000. Loss: 0.9111356735229492. Accuracy: 65.36000061035156\n",
            "Iteration: 2250. Loss: 0.8316279649734497. Accuracy: 65.87999725341797\n",
            "Iteration: 2500. Loss: 0.9269586205482483. Accuracy: 66.44999694824219\n",
            "Iteration: 2750. Loss: 0.6956514716148376. Accuracy: 66.33999633789062\n",
            "Iteration: 3000. Loss: 0.6646679639816284. Accuracy: 67.54999542236328\n",
            "Iteration: 3250. Loss: 0.6306414008140564. Accuracy: 67.58000183105469\n",
            "Iteration: 3500. Loss: 0.5144239068031311. Accuracy: 69.56999969482422\n",
            "Iteration: 3750. Loss: 0.42698654532432556. Accuracy: 71.23999786376953\n",
            "Iteration: 4000. Loss: 0.41230833530426025. Accuracy: 70.22000122070312\n",
            "Iteration: 4250. Loss: 0.42452093958854675. Accuracy: 70.25999450683594\n",
            "Iteration: 4500. Loss: 0.3630775809288025. Accuracy: 70.22999572753906\n",
            "Iteration: 4750. Loss: 0.2902199923992157. Accuracy: 71.25\n",
            "Iteration: 5000. Loss: 0.30754852294921875. Accuracy: 70.48999786376953\n",
            "Iteration: 5250. Loss: 0.23321136832237244. Accuracy: 70.97000122070312\n",
            "Iteration: 5500. Loss: 0.2087111920118332. Accuracy: 70.25999450683594\n",
            "Iteration: 5750. Loss: 0.10937150567770004. Accuracy: 70.54999542236328\n",
            "Iteration: 6000. Loss: 0.17074623703956604. Accuracy: 71.4000015258789\n",
            "Iteration: 6250. Loss: 0.08649314939975739. Accuracy: 70.62999725341797\n",
            "Iteration: 6500. Loss: 0.03425842151045799. Accuracy: 71.22000122070312\n",
            "Iteration: 6750. Loss: 0.05753669887781143. Accuracy: 71.05999755859375\n",
            "Iteration: 7000. Loss: 0.11302581429481506. Accuracy: 70.3499984741211\n",
            "Iteration: 7250. Loss: 0.036237336695194244. Accuracy: 70.55999755859375\n",
            "Iteration: 7500. Loss: 0.08509524911642075. Accuracy: 70.62999725341797\n",
            "Iteration: 7750. Loss: 0.07955479621887207. Accuracy: 71.0199966430664\n",
            "Iteration: 8000. Loss: 0.11524797976016998. Accuracy: 70.58999633789062\n",
            "Iteration: 8250. Loss: 0.10316188633441925. Accuracy: 70.05999755859375\n",
            "Iteration: 8500. Loss: 0.07749775797128677. Accuracy: 70.98999786376953\n",
            "Iteration: 8750. Loss: 0.037868328392505646. Accuracy: 71.2699966430664\n",
            "Iteration: 9000. Loss: 0.04106418788433075. Accuracy: 70.29999542236328\n"
          ]
        },
        {
          "output_type": "error",
          "ename": "KeyboardInterrupt",
          "evalue": "ignored",
          "traceback": [
            "\u001b[0;31m---------------------------------------------------------------------------\u001b[0m",
            "\u001b[0;31mKeyboardInterrupt\u001b[0m                         Traceback (most recent call last)",
            "\u001b[0;32m<ipython-input-17-ef372fc899b6>\u001b[0m in \u001b[0;36m<module>\u001b[0;34m\u001b[0m\n\u001b[1;32m     11\u001b[0m \u001b[0;34m\u001b[0m\u001b[0m\n\u001b[1;32m     12\u001b[0m         \u001b[0;31m# Forward pass to get output/logits\u001b[0m\u001b[0;34m\u001b[0m\u001b[0;34m\u001b[0m\u001b[0m\n\u001b[0;32m---> 13\u001b[0;31m         \u001b[0moutputs\u001b[0m \u001b[0;34m=\u001b[0m \u001b[0mmodel\u001b[0m\u001b[0;34m(\u001b[0m\u001b[0mimages\u001b[0m\u001b[0;34m)\u001b[0m\u001b[0;34m\u001b[0m\u001b[0;34m\u001b[0m\u001b[0m\n\u001b[0m\u001b[1;32m     14\u001b[0m \u001b[0;34m\u001b[0m\u001b[0m\n\u001b[1;32m     15\u001b[0m         \u001b[0;31m# Calculate Loss: softmax --> cross entropy loss\u001b[0m\u001b[0;34m\u001b[0m\u001b[0;34m\u001b[0m\u001b[0m\n",
            "\u001b[0;32m/usr/local/lib/python3.9/dist-packages/torch/nn/modules/module.py\u001b[0m in \u001b[0;36m_call_impl\u001b[0;34m(self, *input, **kwargs)\u001b[0m\n\u001b[1;32m   1192\u001b[0m         if not (self._backward_hooks or self._forward_hooks or self._forward_pre_hooks or _global_backward_hooks\n\u001b[1;32m   1193\u001b[0m                 or _global_forward_hooks or _global_forward_pre_hooks):\n\u001b[0;32m-> 1194\u001b[0;31m             \u001b[0;32mreturn\u001b[0m \u001b[0mforward_call\u001b[0m\u001b[0;34m(\u001b[0m\u001b[0;34m*\u001b[0m\u001b[0minput\u001b[0m\u001b[0;34m,\u001b[0m \u001b[0;34m**\u001b[0m\u001b[0mkwargs\u001b[0m\u001b[0;34m)\u001b[0m\u001b[0;34m\u001b[0m\u001b[0;34m\u001b[0m\u001b[0m\n\u001b[0m\u001b[1;32m   1195\u001b[0m         \u001b[0;31m# Do not call functions when jit is used\u001b[0m\u001b[0;34m\u001b[0m\u001b[0;34m\u001b[0m\u001b[0m\n\u001b[1;32m   1196\u001b[0m         \u001b[0mfull_backward_hooks\u001b[0m\u001b[0;34m,\u001b[0m \u001b[0mnon_full_backward_hooks\u001b[0m \u001b[0;34m=\u001b[0m \u001b[0;34m[\u001b[0m\u001b[0;34m]\u001b[0m\u001b[0;34m,\u001b[0m \u001b[0;34m[\u001b[0m\u001b[0;34m]\u001b[0m\u001b[0;34m\u001b[0m\u001b[0;34m\u001b[0m\u001b[0m\n",
            "\u001b[0;32m<ipython-input-13-e1e60244ada4>\u001b[0m in \u001b[0;36mforward\u001b[0;34m(self, x)\u001b[0m\n\u001b[1;32m     93\u001b[0m         \u001b[0mout\u001b[0m \u001b[0;34m=\u001b[0m \u001b[0mself\u001b[0m\u001b[0;34m.\u001b[0m\u001b[0mcnn5\u001b[0m\u001b[0;34m(\u001b[0m\u001b[0mout\u001b[0m\u001b[0;34m)\u001b[0m\u001b[0;34m\u001b[0m\u001b[0;34m\u001b[0m\u001b[0m\n\u001b[1;32m     94\u001b[0m         \u001b[0mout\u001b[0m \u001b[0;34m=\u001b[0m \u001b[0mself\u001b[0m\u001b[0;34m.\u001b[0m\u001b[0mact5\u001b[0m\u001b[0;34m(\u001b[0m\u001b[0mout\u001b[0m\u001b[0;34m)\u001b[0m\u001b[0;34m\u001b[0m\u001b[0;34m\u001b[0m\u001b[0m\n\u001b[0;32m---> 95\u001b[0;31m         \u001b[0mout\u001b[0m \u001b[0;34m=\u001b[0m \u001b[0mself\u001b[0m\u001b[0;34m.\u001b[0m\u001b[0mpool3\u001b[0m\u001b[0;34m(\u001b[0m\u001b[0mout\u001b[0m\u001b[0;34m)\u001b[0m\u001b[0;34m\u001b[0m\u001b[0;34m\u001b[0m\u001b[0m\n\u001b[0m\u001b[1;32m     96\u001b[0m      \u001b[0;31m#   if flag == 1:\u001b[0m\u001b[0;34m\u001b[0m\u001b[0;34m\u001b[0m\u001b[0m\n\u001b[1;32m     97\u001b[0m     \u001b[0;31m#      print(out.size())\u001b[0m\u001b[0;34m\u001b[0m\u001b[0;34m\u001b[0m\u001b[0m\n",
            "\u001b[0;32m/usr/local/lib/python3.9/dist-packages/torch/nn/modules/module.py\u001b[0m in \u001b[0;36m_call_impl\u001b[0;34m(self, *input, **kwargs)\u001b[0m\n\u001b[1;32m   1192\u001b[0m         if not (self._backward_hooks or self._forward_hooks or self._forward_pre_hooks or _global_backward_hooks\n\u001b[1;32m   1193\u001b[0m                 or _global_forward_hooks or _global_forward_pre_hooks):\n\u001b[0;32m-> 1194\u001b[0;31m             \u001b[0;32mreturn\u001b[0m \u001b[0mforward_call\u001b[0m\u001b[0;34m(\u001b[0m\u001b[0;34m*\u001b[0m\u001b[0minput\u001b[0m\u001b[0;34m,\u001b[0m \u001b[0;34m**\u001b[0m\u001b[0mkwargs\u001b[0m\u001b[0;34m)\u001b[0m\u001b[0;34m\u001b[0m\u001b[0;34m\u001b[0m\u001b[0m\n\u001b[0m\u001b[1;32m   1195\u001b[0m         \u001b[0;31m# Do not call functions when jit is used\u001b[0m\u001b[0;34m\u001b[0m\u001b[0;34m\u001b[0m\u001b[0m\n\u001b[1;32m   1196\u001b[0m         \u001b[0mfull_backward_hooks\u001b[0m\u001b[0;34m,\u001b[0m \u001b[0mnon_full_backward_hooks\u001b[0m \u001b[0;34m=\u001b[0m \u001b[0;34m[\u001b[0m\u001b[0;34m]\u001b[0m\u001b[0;34m,\u001b[0m \u001b[0;34m[\u001b[0m\u001b[0;34m]\u001b[0m\u001b[0;34m\u001b[0m\u001b[0;34m\u001b[0m\u001b[0m\n",
            "\u001b[0;32m/usr/local/lib/python3.9/dist-packages/torch/nn/modules/pooling.py\u001b[0m in \u001b[0;36mforward\u001b[0;34m(self, input)\u001b[0m\n\u001b[1;32m    164\u001b[0m \u001b[0;34m\u001b[0m\u001b[0m\n\u001b[1;32m    165\u001b[0m     \u001b[0;32mdef\u001b[0m \u001b[0mforward\u001b[0m\u001b[0;34m(\u001b[0m\u001b[0mself\u001b[0m\u001b[0;34m,\u001b[0m \u001b[0minput\u001b[0m\u001b[0;34m:\u001b[0m \u001b[0mTensor\u001b[0m\u001b[0;34m)\u001b[0m\u001b[0;34m:\u001b[0m\u001b[0;34m\u001b[0m\u001b[0;34m\u001b[0m\u001b[0m\n\u001b[0;32m--> 166\u001b[0;31m         return F.max_pool2d(input, self.kernel_size, self.stride,\n\u001b[0m\u001b[1;32m    167\u001b[0m                             \u001b[0mself\u001b[0m\u001b[0;34m.\u001b[0m\u001b[0mpadding\u001b[0m\u001b[0;34m,\u001b[0m \u001b[0mself\u001b[0m\u001b[0;34m.\u001b[0m\u001b[0mdilation\u001b[0m\u001b[0;34m,\u001b[0m \u001b[0mceil_mode\u001b[0m\u001b[0;34m=\u001b[0m\u001b[0mself\u001b[0m\u001b[0;34m.\u001b[0m\u001b[0mceil_mode\u001b[0m\u001b[0;34m,\u001b[0m\u001b[0;34m\u001b[0m\u001b[0;34m\u001b[0m\u001b[0m\n\u001b[1;32m    168\u001b[0m                             return_indices=self.return_indices)\n",
            "\u001b[0;32m/usr/local/lib/python3.9/dist-packages/torch/_jit_internal.py\u001b[0m in \u001b[0;36mfn\u001b[0;34m(*args, **kwargs)\u001b[0m\n\u001b[1;32m    483\u001b[0m             \u001b[0;32mreturn\u001b[0m \u001b[0mif_true\u001b[0m\u001b[0;34m(\u001b[0m\u001b[0;34m*\u001b[0m\u001b[0margs\u001b[0m\u001b[0;34m,\u001b[0m \u001b[0;34m**\u001b[0m\u001b[0mkwargs\u001b[0m\u001b[0;34m)\u001b[0m\u001b[0;34m\u001b[0m\u001b[0;34m\u001b[0m\u001b[0m\n\u001b[1;32m    484\u001b[0m         \u001b[0;32melse\u001b[0m\u001b[0;34m:\u001b[0m\u001b[0;34m\u001b[0m\u001b[0;34m\u001b[0m\u001b[0m\n\u001b[0;32m--> 485\u001b[0;31m             \u001b[0;32mreturn\u001b[0m \u001b[0mif_false\u001b[0m\u001b[0;34m(\u001b[0m\u001b[0;34m*\u001b[0m\u001b[0margs\u001b[0m\u001b[0;34m,\u001b[0m \u001b[0;34m**\u001b[0m\u001b[0mkwargs\u001b[0m\u001b[0;34m)\u001b[0m\u001b[0;34m\u001b[0m\u001b[0;34m\u001b[0m\u001b[0m\n\u001b[0m\u001b[1;32m    486\u001b[0m \u001b[0;34m\u001b[0m\u001b[0m\n\u001b[1;32m    487\u001b[0m     \u001b[0;32mif\u001b[0m \u001b[0mif_true\u001b[0m\u001b[0;34m.\u001b[0m\u001b[0m__doc__\u001b[0m \u001b[0;32mis\u001b[0m \u001b[0;32mNone\u001b[0m \u001b[0;32mand\u001b[0m \u001b[0mif_false\u001b[0m\u001b[0;34m.\u001b[0m\u001b[0m__doc__\u001b[0m \u001b[0;32mis\u001b[0m \u001b[0;32mnot\u001b[0m \u001b[0;32mNone\u001b[0m\u001b[0;34m:\u001b[0m\u001b[0;34m\u001b[0m\u001b[0;34m\u001b[0m\u001b[0m\n",
            "\u001b[0;32m/usr/local/lib/python3.9/dist-packages/torch/nn/functional.py\u001b[0m in \u001b[0;36m_max_pool2d\u001b[0;34m(input, kernel_size, stride, padding, dilation, ceil_mode, return_indices)\u001b[0m\n\u001b[1;32m    780\u001b[0m     \u001b[0;32mif\u001b[0m \u001b[0mstride\u001b[0m \u001b[0;32mis\u001b[0m \u001b[0;32mNone\u001b[0m\u001b[0;34m:\u001b[0m\u001b[0;34m\u001b[0m\u001b[0;34m\u001b[0m\u001b[0m\n\u001b[1;32m    781\u001b[0m         \u001b[0mstride\u001b[0m \u001b[0;34m=\u001b[0m \u001b[0mtorch\u001b[0m\u001b[0;34m.\u001b[0m\u001b[0mjit\u001b[0m\u001b[0;34m.\u001b[0m\u001b[0mannotate\u001b[0m\u001b[0;34m(\u001b[0m\u001b[0mList\u001b[0m\u001b[0;34m[\u001b[0m\u001b[0mint\u001b[0m\u001b[0;34m]\u001b[0m\u001b[0;34m,\u001b[0m \u001b[0;34m[\u001b[0m\u001b[0;34m]\u001b[0m\u001b[0;34m)\u001b[0m\u001b[0;34m\u001b[0m\u001b[0;34m\u001b[0m\u001b[0m\n\u001b[0;32m--> 782\u001b[0;31m     \u001b[0;32mreturn\u001b[0m \u001b[0mtorch\u001b[0m\u001b[0;34m.\u001b[0m\u001b[0mmax_pool2d\u001b[0m\u001b[0;34m(\u001b[0m\u001b[0minput\u001b[0m\u001b[0;34m,\u001b[0m \u001b[0mkernel_size\u001b[0m\u001b[0;34m,\u001b[0m \u001b[0mstride\u001b[0m\u001b[0;34m,\u001b[0m \u001b[0mpadding\u001b[0m\u001b[0;34m,\u001b[0m \u001b[0mdilation\u001b[0m\u001b[0;34m,\u001b[0m \u001b[0mceil_mode\u001b[0m\u001b[0;34m)\u001b[0m\u001b[0;34m\u001b[0m\u001b[0;34m\u001b[0m\u001b[0m\n\u001b[0m\u001b[1;32m    783\u001b[0m \u001b[0;34m\u001b[0m\u001b[0m\n\u001b[1;32m    784\u001b[0m \u001b[0;34m\u001b[0m\u001b[0m\n",
            "\u001b[0;31mKeyboardInterrupt\u001b[0m: "
          ]
        }
      ],
      "source": [
        "#\n",
        "iter = 0\n",
        "for epoch in range(num_epochs):\n",
        "    for i, (images, labels) in enumerate(trainloader):\n",
        "      # Load images\n",
        "        images, labels = images.to(device), labels.to(device)\n",
        "        images = images.requires_grad_()\n",
        "\n",
        "        # Clear gradients w.r.t. parameters\n",
        "        optimizer.zero_grad()\n",
        "\n",
        "        # Forward pass to get output/logits\n",
        "        outputs = model(images)\n",
        "\n",
        "        # Calculate Loss: softmax --> cross entropy loss\n",
        "        loss = criterion(outputs, labels)\n",
        "\n",
        "        # Getting gradients w.r.t. parameters\n",
        "        loss.backward()\n",
        "\n",
        "        # Updating parameters\n",
        "        optimizer.step()\n",
        "\n",
        "        iter += 1\n",
        "\n",
        "        if iter % 250 == 0:\n",
        "            # Calculate Accuracy         \n",
        "            correct = 0\n",
        "            total = 0\n",
        "            # Iterate through test dataset\n",
        "            for images, labels in testloader:\n",
        "                images, labels = images.to(device), labels.to(device)\n",
        "                # Load images\n",
        "                images = images.requires_grad_()\n",
        "\n",
        "                # Forward pass only to get logits/output\n",
        "                outputs = model(images)\n",
        "\n",
        "                # Get predictions from the maximum value\n",
        "                _, predicted = torch.max(outputs.data, 1)\n",
        "\n",
        "                # Total number of labels\n",
        "                total += labels.size(0)\n",
        "\n",
        "                # Total correct predictions\n",
        "                correct += (predicted == labels).sum()\n",
        "\n",
        "            accuracy = 100 * correct / total\n",
        "\n",
        "            # Print Loss\n",
        "            print('Iteration: {}. Loss: {}. Accuracy: {}'.format(iter, loss.item(), accuracy))"
      ]
    },
    {
      "cell_type": "code",
      "source": [],
      "metadata": {
        "id": "xdIX6diqNAEy"
      },
      "execution_count": null,
      "outputs": []
    },
    {
      "cell_type": "code",
      "execution_count": null,
      "metadata": {
        "id": "98O83PU1o9y-"
      },
      "outputs": [],
      "source": []
    }
  ],
  "metadata": {
    "accelerator": "GPU",
    "colab": {
      "provenance": [],
      "authorship_tag": "ABX9TyPAR1BbqGqadaDNwfojM5jE",
      "include_colab_link": true
    },
    "gpuClass": "standard",
    "kernelspec": {
      "display_name": "Python 3",
      "name": "python3"
    },
    "language_info": {
      "name": "python"
    }
  },
  "nbformat": 4,
  "nbformat_minor": 0
}