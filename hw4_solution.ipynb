{
 "cells": [
  {
   "cell_type": "markdown",
   "id": "a77cbedc",
   "metadata": {},
   "source": [
    "### Problem 1\n",
    "\n",
    "1. You should be able to get the best result for some intermediate learning rate (e.g. 0.01 or 0.001). Actually, the general guidance in training the neural network is: if the learning rate is too large, the optimization algorithm will miss the minimum; if the learning rate is too small, the algorithm will move too slow in the parameter space.\n",
    "\n",
    "2. There is no essential difference in the performance of the neural network for this problem when changing the mean squared loss to L1Loss function. However, the loss in the output message will be different: you should be able to observe that L1Loss is much larger than L2Loss. This is because the definition of L2Loss needs to take the squared error. Since the error is much smaller than 1, the L2Loss is much smaller. \n",
    "\n",
    "3. You should be able to observe that the error will first decrease and then saturate to a certain level when increasing the total number of iterations. In the ideal case, when you train the neural network for sufficiently large iterations, the optimization will find the minimum. Therefore, in the real training algorithm, the error will decrease when increasing the iterations. When the iterations is large enough, it does not help too much."
   ]
  },
  {
   "cell_type": "markdown",
   "id": "efdab36c",
   "metadata": {},
   "source": [
    "### Problem 2\n",
    "\n",
    "For both problems, you are expected to see that the error will decrease when increasing the number of layers and neurons in each hidden layer. In the meanwhile, the training time will also increase."
   ]
  },
  {
   "cell_type": "markdown",
   "id": "9022ae45",
   "metadata": {},
   "source": [
    "### Problem 3\n",
    "\n",
    "The same as Problem 2, for both problems, you are expected to see that the error will decrease when increasing the number of layers and neurons in each hidden layer. The training time will also increase.\n",
    "\n",
    "Another observation is that, it is easy to get good approximation for the function $y=\\sin(n x)$ with $n=1$ and 10. However, it is extremely difficult to approximate the function $y=\\sin(n x)$ with $n=100$. How to approximate high frequency data is still an active research topic and there are many papers trying to solve this problem."
   ]
  }
 ],
 "metadata": {
  "kernelspec": {
   "display_name": "Python 3 (ipykernel)",
   "language": "python",
   "name": "python3"
  },
  "language_info": {
   "codemirror_mode": {
    "name": "ipython",
    "version": 3
   },
   "file_extension": ".py",
   "mimetype": "text/x-python",
   "name": "python",
   "nbconvert_exporter": "python",
   "pygments_lexer": "ipython3",
   "version": "3.10.4"
  }
 },
 "nbformat": 4,
 "nbformat_minor": 5
}
